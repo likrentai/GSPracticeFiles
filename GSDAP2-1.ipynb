{
 "cells": [
  {
   "cell_type": "markdown",
   "metadata": {},
   "source": [
    "# Geospatial Data Analytics with Python - Example 2-1: Japan Universities\n",
    "___"
   ]
  },
  {
   "cell_type": "markdown",
   "metadata": {},
   "source": [
    "## A) Dataset load with Pandas"
   ]
  },
  {
   "cell_type": "code",
   "execution_count": 1,
   "metadata": {},
   "outputs": [],
   "source": [
    "# Libraries import\n",
    "import pandas as pd\n",
    "import seaborn as sns\n",
    "import matplotlib.pyplot as plt\n",
    "%matplotlib inline"
   ]
  },
  {
   "cell_type": "code",
   "execution_count": 43,
   "metadata": {},
   "outputs": [
    {
     "data": {
      "text/html": [
       "<div>\n",
       "<style scoped>\n",
       "    .dataframe tbody tr th:only-of-type {\n",
       "        vertical-align: middle;\n",
       "    }\n",
       "\n",
       "    .dataframe tbody tr th {\n",
       "        vertical-align: top;\n",
       "    }\n",
       "\n",
       "    .dataframe thead th {\n",
       "        text-align: right;\n",
       "    }\n",
       "</style>\n",
       "<table border=\"1\" class=\"dataframe\">\n",
       "  <thead>\n",
       "    <tr style=\"text-align: right;\">\n",
       "      <th></th>\n",
       "      <th>Unnamed: 0</th>\n",
       "      <th>code</th>\n",
       "      <th>name</th>\n",
       "      <th>name_jp</th>\n",
       "      <th>type</th>\n",
       "      <th>type_jp</th>\n",
       "      <th>address</th>\n",
       "      <th>postal_code</th>\n",
       "      <th>phone</th>\n",
       "      <th>state</th>\n",
       "      <th>...</th>\n",
       "      <th>longitude</th>\n",
       "      <th>found</th>\n",
       "      <th>faculty_count</th>\n",
       "      <th>department_count</th>\n",
       "      <th>has_grad</th>\n",
       "      <th>has_remote</th>\n",
       "      <th>review_rating</th>\n",
       "      <th>review_count</th>\n",
       "      <th>difficulty_SD</th>\n",
       "      <th>difficulty_rank</th>\n",
       "    </tr>\n",
       "  </thead>\n",
       "  <tbody>\n",
       "    <tr>\n",
       "      <th>0</th>\n",
       "      <td>0</td>\n",
       "      <td>F101110100010</td>\n",
       "      <td>Hokkaido University</td>\n",
       "      <td>北海道大学</td>\n",
       "      <td>National</td>\n",
       "      <td>国立</td>\n",
       "      <td>北海道札幌市北区北8条西5丁目</td>\n",
       "      <td>060－0808</td>\n",
       "      <td>011－716－2111</td>\n",
       "      <td>Hokkai Do</td>\n",
       "      <td>...</td>\n",
       "      <td>141.347153</td>\n",
       "      <td>1876-08</td>\n",
       "      <td>33</td>\n",
       "      <td>78</td>\n",
       "      <td>True</td>\n",
       "      <td>False</td>\n",
       "      <td>4.16</td>\n",
       "      <td>1389.0</td>\n",
       "      <td>60.4</td>\n",
       "      <td>A</td>\n",
       "    </tr>\n",
       "    <tr>\n",
       "      <th>1</th>\n",
       "      <td>1</td>\n",
       "      <td>F101110100029</td>\n",
       "      <td>Hokkaido University of Education</td>\n",
       "      <td>北海道教育大学</td>\n",
       "      <td>National</td>\n",
       "      <td>国立</td>\n",
       "      <td>北海道札幌市北区あいの里5条3－1－3</td>\n",
       "      <td>002－8501</td>\n",
       "      <td>011－778－0206</td>\n",
       "      <td>Hokkai Do</td>\n",
       "      <td>...</td>\n",
       "      <td>141.393753</td>\n",
       "      <td>1943-04</td>\n",
       "      <td>3</td>\n",
       "      <td>8</td>\n",
       "      <td>True</td>\n",
       "      <td>False</td>\n",
       "      <td>3.79</td>\n",
       "      <td>544.0</td>\n",
       "      <td>47.1</td>\n",
       "      <td>D</td>\n",
       "    </tr>\n",
       "    <tr>\n",
       "      <th>2</th>\n",
       "      <td>2</td>\n",
       "      <td>F101110100038</td>\n",
       "      <td>Muroran Institute of Technology</td>\n",
       "      <td>室蘭工業大学</td>\n",
       "      <td>National</td>\n",
       "      <td>国立</td>\n",
       "      <td>北海道室蘭市水元町27－1</td>\n",
       "      <td>050－8585</td>\n",
       "      <td>0143－46－5000</td>\n",
       "      <td>Hokkai Do</td>\n",
       "      <td>...</td>\n",
       "      <td>141.034042</td>\n",
       "      <td>1897-05</td>\n",
       "      <td>3</td>\n",
       "      <td>10</td>\n",
       "      <td>True</td>\n",
       "      <td>False</td>\n",
       "      <td>3.66</td>\n",
       "      <td>126.0</td>\n",
       "      <td>39.0</td>\n",
       "      <td>F</td>\n",
       "    </tr>\n",
       "    <tr>\n",
       "      <th>3</th>\n",
       "      <td>3</td>\n",
       "      <td>F101110100047</td>\n",
       "      <td>Otaru University of Commerce</td>\n",
       "      <td>小樽商科大学</td>\n",
       "      <td>National</td>\n",
       "      <td>国立</td>\n",
       "      <td>北海道小樽市緑3－5－21</td>\n",
       "      <td>047－8501</td>\n",
       "      <td>0134－27－5206</td>\n",
       "      <td>Hokkai Do</td>\n",
       "      <td>...</td>\n",
       "      <td>140.979370</td>\n",
       "      <td>1910-03</td>\n",
       "      <td>2</td>\n",
       "      <td>6</td>\n",
       "      <td>True</td>\n",
       "      <td>False</td>\n",
       "      <td>3.80</td>\n",
       "      <td>257.0</td>\n",
       "      <td>50.0</td>\n",
       "      <td>C</td>\n",
       "    </tr>\n",
       "    <tr>\n",
       "      <th>4</th>\n",
       "      <td>4</td>\n",
       "      <td>F101110100056</td>\n",
       "      <td>Obihiro University of Agriculture And Veterina...</td>\n",
       "      <td>帯広畜産大学</td>\n",
       "      <td>National</td>\n",
       "      <td>国立</td>\n",
       "      <td>北海道帯広市稲田町西2線11</td>\n",
       "      <td>080－8555</td>\n",
       "      <td>0155－49－5216</td>\n",
       "      <td>Hokkai Do</td>\n",
       "      <td>...</td>\n",
       "      <td>143.177979</td>\n",
       "      <td>1941-04</td>\n",
       "      <td>3</td>\n",
       "      <td>5</td>\n",
       "      <td>True</td>\n",
       "      <td>False</td>\n",
       "      <td>4.20</td>\n",
       "      <td>87.0</td>\n",
       "      <td>54.5</td>\n",
       "      <td>B</td>\n",
       "    </tr>\n",
       "  </tbody>\n",
       "</table>\n",
       "<p>5 rows × 22 columns</p>\n",
       "</div>"
      ],
      "text/plain": [
       "   Unnamed: 0           code  \\\n",
       "0           0  F101110100010   \n",
       "1           1  F101110100029   \n",
       "2           2  F101110100038   \n",
       "3           3  F101110100047   \n",
       "4           4  F101110100056   \n",
       "\n",
       "                                                name  name_jp      type  \\\n",
       "0                                Hokkaido University    北海道大学  National   \n",
       "1                   Hokkaido University of Education  北海道教育大学  National   \n",
       "2                    Muroran Institute of Technology   室蘭工業大学  National   \n",
       "3                       Otaru University of Commerce   小樽商科大学  National   \n",
       "4  Obihiro University of Agriculture And Veterina...   帯広畜産大学  National   \n",
       "\n",
       "  type_jp              address postal_code         phone      state  ...  \\\n",
       "0      国立      北海道札幌市北区北8条西5丁目    060－0808  011－716－2111  Hokkai Do  ...   \n",
       "1      国立  北海道札幌市北区あいの里5条3－1－3    002－8501  011－778－0206  Hokkai Do  ...   \n",
       "2      国立        北海道室蘭市水元町27－1    050－8585  0143－46－5000  Hokkai Do  ...   \n",
       "3      国立        北海道小樽市緑3－5－21    047－8501  0134－27－5206  Hokkai Do  ...   \n",
       "4      国立       北海道帯広市稲田町西2線11    080－8555  0155－49－5216  Hokkai Do  ...   \n",
       "\n",
       "    longitude    found  faculty_count department_count  has_grad  has_remote  \\\n",
       "0  141.347153  1876-08             33               78      True       False   \n",
       "1  141.393753  1943-04              3                8      True       False   \n",
       "2  141.034042  1897-05              3               10      True       False   \n",
       "3  140.979370  1910-03              2                6      True       False   \n",
       "4  143.177979  1941-04              3                5      True       False   \n",
       "\n",
       "   review_rating  review_count  difficulty_SD  difficulty_rank  \n",
       "0           4.16        1389.0           60.4                A  \n",
       "1           3.79         544.0           47.1                D  \n",
       "2           3.66         126.0           39.0                F  \n",
       "3           3.80         257.0           50.0                C  \n",
       "4           4.20          87.0           54.5                B  \n",
       "\n",
       "[5 rows x 22 columns]"
      ]
     },
     "execution_count": 43,
     "metadata": {},
     "output_type": "execute_result"
    }
   ],
   "source": [
    "# CSV Dataset Load\n",
    "df = pd.read_csv('/IT Training/DatasetsForLearning/GSDA/DATA-Japan_Universities.csv')\n",
    "df.head()"
   ]
  },
  {
   "cell_type": "code",
   "execution_count": 44,
   "metadata": {},
   "outputs": [
    {
     "data": {
      "text/html": [
       "<div>\n",
       "<style scoped>\n",
       "    .dataframe tbody tr th:only-of-type {\n",
       "        vertical-align: middle;\n",
       "    }\n",
       "\n",
       "    .dataframe tbody tr th {\n",
       "        vertical-align: top;\n",
       "    }\n",
       "\n",
       "    .dataframe thead th {\n",
       "        text-align: right;\n",
       "    }\n",
       "</style>\n",
       "<table border=\"1\" class=\"dataframe\">\n",
       "  <thead>\n",
       "    <tr style=\"text-align: right;\">\n",
       "      <th></th>\n",
       "      <th>name</th>\n",
       "      <th>name_jp</th>\n",
       "      <th>type</th>\n",
       "      <th>state</th>\n",
       "      <th>state_jp</th>\n",
       "      <th>latitude</th>\n",
       "      <th>longitude</th>\n",
       "      <th>faculty_count</th>\n",
       "      <th>department_count</th>\n",
       "      <th>review_rating</th>\n",
       "      <th>review_count</th>\n",
       "      <th>difficulty_SD</th>\n",
       "      <th>difficulty_rank</th>\n",
       "    </tr>\n",
       "  </thead>\n",
       "  <tbody>\n",
       "    <tr>\n",
       "      <th>0</th>\n",
       "      <td>Hokkaido University</td>\n",
       "      <td>北海道大学</td>\n",
       "      <td>National</td>\n",
       "      <td>Hokkai Do</td>\n",
       "      <td>北海道</td>\n",
       "      <td>43.070446</td>\n",
       "      <td>141.347153</td>\n",
       "      <td>33</td>\n",
       "      <td>78</td>\n",
       "      <td>4.16</td>\n",
       "      <td>1389.0</td>\n",
       "      <td>60.4</td>\n",
       "      <td>A</td>\n",
       "    </tr>\n",
       "    <tr>\n",
       "      <th>1</th>\n",
       "      <td>Hokkaido University of Education</td>\n",
       "      <td>北海道教育大学</td>\n",
       "      <td>National</td>\n",
       "      <td>Hokkai Do</td>\n",
       "      <td>北海道</td>\n",
       "      <td>43.170498</td>\n",
       "      <td>141.393753</td>\n",
       "      <td>3</td>\n",
       "      <td>8</td>\n",
       "      <td>3.79</td>\n",
       "      <td>544.0</td>\n",
       "      <td>47.1</td>\n",
       "      <td>D</td>\n",
       "    </tr>\n",
       "    <tr>\n",
       "      <th>2</th>\n",
       "      <td>Muroran Institute of Technology</td>\n",
       "      <td>室蘭工業大学</td>\n",
       "      <td>National</td>\n",
       "      <td>Hokkai Do</td>\n",
       "      <td>北海道</td>\n",
       "      <td>42.378716</td>\n",
       "      <td>141.034042</td>\n",
       "      <td>3</td>\n",
       "      <td>10</td>\n",
       "      <td>3.66</td>\n",
       "      <td>126.0</td>\n",
       "      <td>39.0</td>\n",
       "      <td>F</td>\n",
       "    </tr>\n",
       "    <tr>\n",
       "      <th>3</th>\n",
       "      <td>Otaru University of Commerce</td>\n",
       "      <td>小樽商科大学</td>\n",
       "      <td>National</td>\n",
       "      <td>Hokkai Do</td>\n",
       "      <td>北海道</td>\n",
       "      <td>43.190952</td>\n",
       "      <td>140.979370</td>\n",
       "      <td>2</td>\n",
       "      <td>6</td>\n",
       "      <td>3.80</td>\n",
       "      <td>257.0</td>\n",
       "      <td>50.0</td>\n",
       "      <td>C</td>\n",
       "    </tr>\n",
       "    <tr>\n",
       "      <th>4</th>\n",
       "      <td>Obihiro University of Agriculture And Veterina...</td>\n",
       "      <td>帯広畜産大学</td>\n",
       "      <td>National</td>\n",
       "      <td>Hokkai Do</td>\n",
       "      <td>北海道</td>\n",
       "      <td>42.872356</td>\n",
       "      <td>143.177979</td>\n",
       "      <td>3</td>\n",
       "      <td>5</td>\n",
       "      <td>4.20</td>\n",
       "      <td>87.0</td>\n",
       "      <td>54.5</td>\n",
       "      <td>B</td>\n",
       "    </tr>\n",
       "  </tbody>\n",
       "</table>\n",
       "</div>"
      ],
      "text/plain": [
       "                                                name  name_jp      type  \\\n",
       "0                                Hokkaido University    北海道大学  National   \n",
       "1                   Hokkaido University of Education  北海道教育大学  National   \n",
       "2                    Muroran Institute of Technology   室蘭工業大学  National   \n",
       "3                       Otaru University of Commerce   小樽商科大学  National   \n",
       "4  Obihiro University of Agriculture And Veterina...   帯広畜産大学  National   \n",
       "\n",
       "       state state_jp   latitude   longitude  faculty_count  department_count  \\\n",
       "0  Hokkai Do      北海道  43.070446  141.347153             33                78   \n",
       "1  Hokkai Do      北海道  43.170498  141.393753              3                 8   \n",
       "2  Hokkai Do      北海道  42.378716  141.034042              3                10   \n",
       "3  Hokkai Do      北海道  43.190952  140.979370              2                 6   \n",
       "4  Hokkai Do      北海道  42.872356  143.177979              3                 5   \n",
       "\n",
       "   review_rating  review_count  difficulty_SD difficulty_rank  \n",
       "0           4.16        1389.0           60.4               A  \n",
       "1           3.79         544.0           47.1               D  \n",
       "2           3.66         126.0           39.0               F  \n",
       "3           3.80         257.0           50.0               C  \n",
       "4           4.20          87.0           54.5               B  "
      ]
     },
     "execution_count": 44,
     "metadata": {},
     "output_type": "execute_result"
    }
   ],
   "source": [
    "# Columns Removal\n",
    "df=df.drop(['Unnamed: 0', 'code', 'type_jp', 'address', 'postal_code', 'phone', 'found', 'has_grad', 'has_remote'],axis=1)\n",
    "df.head()"
   ]
  },
  {
   "cell_type": "code",
   "execution_count": 4,
   "metadata": {},
   "outputs": [
    {
     "name": "stdout",
     "output_type": "stream",
     "text": [
      "Number of rows: 813\n",
      "Number of columns: 13\n"
     ]
    }
   ],
   "source": [
    "# Display the number of entries (number of rows and columns)\n",
    "rows,cols = df.shape\n",
    "print(f'Number of rows: {rows}')\n",
    "print(f'Number of columns: {cols}')"
   ]
  },
  {
   "cell_type": "code",
   "execution_count": 5,
   "metadata": {},
   "outputs": [
    {
     "data": {
      "text/plain": [
       "Index(['name', 'name_jp', 'type', 'state', 'state_jp', 'latitude', 'longitude',\n",
       "       'faculty_count', 'department_count', 'review_rating', 'review_count',\n",
       "       'difficulty_SD', 'difficulty_rank'],\n",
       "      dtype='object')"
      ]
     },
     "execution_count": 5,
     "metadata": {},
     "output_type": "execute_result"
    }
   ],
   "source": [
    "# Remove any white spaces in columns\n",
    "df.columns = df.columns.str.strip()\n",
    "# Display column names\n",
    "df.columns"
   ]
  },
  {
   "cell_type": "code",
   "execution_count": 6,
   "metadata": {},
   "outputs": [
    {
     "data": {
      "text/plain": [
       "name                 object\n",
       "name_jp              object\n",
       "type                 object\n",
       "state                object\n",
       "state_jp             object\n",
       "latitude            float64\n",
       "longitude           float64\n",
       "faculty_count         int64\n",
       "department_count      int64\n",
       "review_rating       float64\n",
       "review_count        float64\n",
       "difficulty_SD       float64\n",
       "difficulty_rank      object\n",
       "dtype: object"
      ]
     },
     "execution_count": 6,
     "metadata": {},
     "output_type": "execute_result"
    }
   ],
   "source": [
    "# Display datatypes\n",
    "df.dtypes"
   ]
  },
  {
   "cell_type": "code",
   "execution_count": 11,
   "metadata": {},
   "outputs": [
    {
     "data": {
      "text/plain": [
       "Text(0.5, 1.0, 'Missing values present in columns')"
      ]
     },
     "execution_count": 11,
     "metadata": {},
     "output_type": "execute_result"
    },
    {
     "data": {
      "image/png": "[encoded data removed]",
      "text/plain": [
       "<Figure size 1000x400 with 1 Axes>"
      ]
     },
     "metadata": {},
     "output_type": "display_data"
    }
   ],
   "source": [
    "# Display any missing values\n",
    "plt.figure(figsize=(10,4))\n",
    "sns.heatmap(df.isnull(), cbar=False, cmap='viridis', yticklabels=False)\n",
    "plt.title('Missing values present in columns') "
   ]
  },
  {
   "cell_type": "markdown",
   "metadata": {},
   "source": [
    "### EDA"
   ]
  },
  {
   "cell_type": "code",
   "execution_count": 16,
   "metadata": {},
   "outputs": [
    {
     "data": {
      "image/png": "[encoded data removed]",
      "text/plain": [
       "<Figure size 500x500 with 1 Axes>"
      ]
     },
     "metadata": {},
     "output_type": "display_data"
    }
   ],
   "source": [
    "# Distribution of universities in Japan\n",
    "sns.displot(df['type'])\n",
    "plt.title('Types of Universities in Japan')\n",
    "plt.xlabel('University Type')\n",
    "plt.ylabel('Frequency')\n",
    "plt.show()"
   ]
  },
  {
   "cell_type": "code",
   "execution_count": 17,
   "metadata": {},
   "outputs": [
    {
     "data": {
      "text/plain": [
       "array(['Hokkai Do', 'Aomori Ken', 'Iwate Ken', 'Miyagi Ken', 'Akita Ken',\n",
       "       'Yamagata Ken', 'Fukushima Ken', 'Ibaraki Ken', 'Tochigi Ken',\n",
       "       'Gunma Ken', 'Saitama Ken', 'Chiba Ken', 'Tokyo To',\n",
       "       'Kanagawa Ken', 'Niigata Ken', 'Toyama Ken', 'Ishikawa Ken',\n",
       "       'Fukui Ken', 'Yamanashi Ken', 'Nagano Ken', 'Gifu Ken',\n",
       "       'Shizuoka Ken', 'Aichi Ken', 'Mie Ken', 'Shiga Ken', 'Kyoto Fu',\n",
       "       'Osaka Fu', 'Hyogo Ken', 'Nara Ken', 'Wakayama Ken', 'Tottori Ken',\n",
       "       'Shimane Ken', 'Okayama Ken', 'Hiroshima Ken', 'Yamaguchi Ken',\n",
       "       'Tokushima Ken', 'Kagawa Ken', 'Ehime Ken', 'Kochi Ken',\n",
       "       'Fukuoka Ken', 'Saga Ken', 'Nagasaki Ken', 'Kumamoto Ken',\n",
       "       'Oita Ken', 'Miyazaki Ken', 'Kagoshima Ken', 'Okinawa Ken'],\n",
       "      dtype=object)"
      ]
     },
     "execution_count": 17,
     "metadata": {},
     "output_type": "execute_result"
    }
   ],
   "source": [
    "# Show prefectures where universities are located\n",
    "df['state'].unique()"
   ]
  },
  {
   "cell_type": "code",
   "execution_count": 41,
   "metadata": {},
   "outputs": [
    {
     "data": {
      "image/png": "[encoded data removed]",
      "text/plain": [
       "<Figure size 1000x400 with 2 Axes>"
      ]
     },
     "metadata": {},
     "output_type": "display_data"
    }
   ],
   "source": [
    "# Correlation (difficulty & type) versus (rating & type)\n",
    "fig, ax = plt.subplots(nrows=1, ncols=2, figsize=(10,4))\n",
    "\n",
    "sns.stripplot(df, x=\"type\", y=\"difficulty_SD\", ax=ax[0], jitter=0.35, size=3, color='royalblue')\n",
    "sns.stripplot(df, x=\"type\", y=\"review_rating\", ax=ax[1], jitter=0.35, size=3, color='seagreen')\n",
    "\n",
    "ax[0].set_title('Difficulty by University Type')\n",
    "ax[1].set_title('Rating by University Type')\n",
    "plt.show()"
   ]
  },
  {
   "cell_type": "code",
   "execution_count": 123,
   "metadata": {},
   "outputs": [
    {
     "data": {
      "text/html": [
       "<div>\n",
       "<style scoped>\n",
       "    .dataframe tbody tr th:only-of-type {\n",
       "        vertical-align: middle;\n",
       "    }\n",
       "\n",
       "    .dataframe tbody tr th {\n",
       "        vertical-align: top;\n",
       "    }\n",
       "\n",
       "    .dataframe thead th {\n",
       "        text-align: right;\n",
       "    }\n",
       "</style>\n",
       "<table border=\"1\" class=\"dataframe\">\n",
       "  <thead>\n",
       "    <tr style=\"text-align: right;\">\n",
       "      <th></th>\n",
       "      <th>state</th>\n",
       "      <th>count</th>\n",
       "    </tr>\n",
       "  </thead>\n",
       "  <tbody>\n",
       "    <tr>\n",
       "      <th>0</th>\n",
       "      <td>Tokyo To</td>\n",
       "      <td>146</td>\n",
       "    </tr>\n",
       "    <tr>\n",
       "      <th>1</th>\n",
       "      <td>Osaka Fu</td>\n",
       "      <td>58</td>\n",
       "    </tr>\n",
       "    <tr>\n",
       "      <th>2</th>\n",
       "      <td>Aichi Ken</td>\n",
       "      <td>52</td>\n",
       "    </tr>\n",
       "    <tr>\n",
       "      <th>3</th>\n",
       "      <td>Hokkai Do</td>\n",
       "      <td>37</td>\n",
       "    </tr>\n",
       "    <tr>\n",
       "      <th>4</th>\n",
       "      <td>Fukuoka Ken</td>\n",
       "      <td>36</td>\n",
       "    </tr>\n",
       "    <tr>\n",
       "      <th>5</th>\n",
       "      <td>Hyogo Ken</td>\n",
       "      <td>36</td>\n",
       "    </tr>\n",
       "    <tr>\n",
       "      <th>6</th>\n",
       "      <td>Kyoto Fu</td>\n",
       "      <td>34</td>\n",
       "    </tr>\n",
       "    <tr>\n",
       "      <th>7</th>\n",
       "      <td>Kanagawa Ken</td>\n",
       "      <td>33</td>\n",
       "    </tr>\n",
       "    <tr>\n",
       "      <th>8</th>\n",
       "      <td>Chiba Ken</td>\n",
       "      <td>27</td>\n",
       "    </tr>\n",
       "    <tr>\n",
       "      <th>9</th>\n",
       "      <td>Saitama Ken</td>\n",
       "      <td>27</td>\n",
       "    </tr>\n",
       "  </tbody>\n",
       "</table>\n",
       "</div>"
      ],
      "text/plain": [
       "          state  count\n",
       "0      Tokyo To    146\n",
       "1      Osaka Fu     58\n",
       "2     Aichi Ken     52\n",
       "3     Hokkai Do     37\n",
       "4   Fukuoka Ken     36\n",
       "5     Hyogo Ken     36\n",
       "6      Kyoto Fu     34\n",
       "7  Kanagawa Ken     33\n",
       "8     Chiba Ken     27\n",
       "9   Saitama Ken     27"
      ]
     },
     "execution_count": 123,
     "metadata": {},
     "output_type": "execute_result"
    }
   ],
   "source": [
    "# Show top ten prefectures with the most universities\n",
    "pc=df['state'].value_counts().reset_index()\n",
    "pc=pc.head(10)\n",
    "pc"
   ]
  },
  {
   "cell_type": "code",
   "execution_count": 130,
   "metadata": {},
   "outputs": [
    {
     "data": {
      "text/plain": [
       "Text(0.5, 1.0, 'Top ten Japanese prefectures of with the most universities')"
      ]
     },
     "execution_count": 130,
     "metadata": {},
     "output_type": "execute_result"
    },
    {
     "data": {
      "image/png": "[encoded data removed]",
      "text/plain": [
       "<Figure size 640x480 with 1 Axes>"
      ]
     },
     "metadata": {},
     "output_type": "display_data"
    }
   ],
   "source": [
    "# Top ten prefectures with the most universities\n",
    "sns.barplot(pc, x='count', y='state', orient='h', hue='state')\n",
    "plt.title('Top ten Japanese prefectures of with the most universities')"
   ]
  },
  {
   "cell_type": "code",
   "execution_count": 133,
   "metadata": {},
   "outputs": [
    {
     "data": {
      "text/plain": [
       "124"
      ]
     },
     "execution_count": 133,
     "metadata": {},
     "output_type": "execute_result"
    }
   ],
   "source": [
    "# Total number of Tokyo Universities\n",
    "sum(df[df['state']=='Tokyo To'].value_counts())"
   ]
  },
  {
   "cell_type": "code",
   "execution_count": 145,
   "metadata": {},
   "outputs": [
    {
     "data": {
      "text/html": [
       "<div>\n",
       "<style scoped>\n",
       "    .dataframe tbody tr th:only-of-type {\n",
       "        vertical-align: middle;\n",
       "    }\n",
       "\n",
       "    .dataframe tbody tr th {\n",
       "        vertical-align: top;\n",
       "    }\n",
       "\n",
       "    .dataframe thead th {\n",
       "        text-align: right;\n",
       "    }\n",
       "</style>\n",
       "<table border=\"1\" class=\"dataframe\">\n",
       "  <thead>\n",
       "    <tr style=\"text-align: right;\">\n",
       "      <th>type</th>\n",
       "      <th>National</th>\n",
       "      <th>Private</th>\n",
       "      <th>Public</th>\n",
       "      <th>Total</th>\n",
       "    </tr>\n",
       "    <tr>\n",
       "      <th>state</th>\n",
       "      <th></th>\n",
       "      <th></th>\n",
       "      <th></th>\n",
       "      <th></th>\n",
       "    </tr>\n",
       "  </thead>\n",
       "  <tbody>\n",
       "    <tr>\n",
       "      <th>Tokyo To</th>\n",
       "      <td>12</td>\n",
       "      <td>132</td>\n",
       "      <td>2</td>\n",
       "      <td>146</td>\n",
       "    </tr>\n",
       "  </tbody>\n",
       "</table>\n",
       "</div>"
      ],
      "text/plain": [
       "type      National  Private  Public  Total\n",
       "state                                     \n",
       "Tokyo To        12      132       2    146"
      ]
     },
     "execution_count": 145,
     "metadata": {},
     "output_type": "execute_result"
    }
   ],
   "source": [
    "# Create a new DataFrame with the desired structure to breakdown the university types in Tokyo\n",
    "tu = pd.pivot_table(df[df['state']=='Tokyo To'], index='state', columns='type', aggfunc='size')\n",
    "tu['Total'] = tu.sum(axis=1)\n",
    "tu"
   ]
  },
  {
   "cell_type": "code",
   "execution_count": 148,
   "metadata": {},
   "outputs": [
    {
     "data": {
      "text/plain": [
       "type\n",
       "National    9.965116\n",
       "Private     5.678914\n",
       "Public      4.495050\n",
       "Name: faculty_count, dtype: float64"
      ]
     },
     "execution_count": 148,
     "metadata": {},
     "output_type": "execute_result"
    }
   ],
   "source": [
    "# Mean faculty count in each type of university\n",
    "# df.groupby(['type']).mean('faculty_count')\n",
    "df.groupby('type')['faculty_count'].mean()"
   ]
  },
  {
   "cell_type": "code",
   "execution_count": 149,
   "metadata": {},
   "outputs": [
    {
     "data": {
      "text/plain": [
       "type\n",
       "National    28.941860\n",
       "Private     10.953674\n",
       "Public       9.128713\n",
       "Name: department_count, dtype: float64"
      ]
     },
     "execution_count": 149,
     "metadata": {},
     "output_type": "execute_result"
    }
   ],
   "source": [
    "# Mean department count in each type of university\n",
    "df.groupby('type')['department_count'].mean()"
   ]
  },
  {
   "cell_type": "code",
   "execution_count": 150,
   "metadata": {},
   "outputs": [
    {
     "data": {
      "text/html": [
       "<div>\n",
       "<style scoped>\n",
       "    .dataframe tbody tr th:only-of-type {\n",
       "        vertical-align: middle;\n",
       "    }\n",
       "\n",
       "    .dataframe tbody tr th {\n",
       "        vertical-align: top;\n",
       "    }\n",
       "\n",
       "    .dataframe thead th {\n",
       "        text-align: right;\n",
       "    }\n",
       "</style>\n",
       "<table border=\"1\" class=\"dataframe\">\n",
       "  <thead>\n",
       "    <tr style=\"text-align: right;\">\n",
       "      <th>difficulty_rank</th>\n",
       "      <th>A</th>\n",
       "      <th>B</th>\n",
       "      <th>C</th>\n",
       "      <th>D</th>\n",
       "      <th>E</th>\n",
       "      <th>F</th>\n",
       "      <th>S</th>\n",
       "    </tr>\n",
       "    <tr>\n",
       "      <th>type</th>\n",
       "      <th></th>\n",
       "      <th></th>\n",
       "      <th></th>\n",
       "      <th></th>\n",
       "      <th></th>\n",
       "      <th></th>\n",
       "      <th></th>\n",
       "    </tr>\n",
       "  </thead>\n",
       "  <tbody>\n",
       "    <tr>\n",
       "      <th>National</th>\n",
       "      <td>12</td>\n",
       "      <td>11</td>\n",
       "      <td>35</td>\n",
       "      <td>14</td>\n",
       "      <td>3</td>\n",
       "      <td>2</td>\n",
       "      <td>5</td>\n",
       "    </tr>\n",
       "    <tr>\n",
       "      <th>Private</th>\n",
       "      <td>9</td>\n",
       "      <td>19</td>\n",
       "      <td>37</td>\n",
       "      <td>52</td>\n",
       "      <td>141</td>\n",
       "      <td>318</td>\n",
       "      <td>4</td>\n",
       "    </tr>\n",
       "    <tr>\n",
       "      <th>Public</th>\n",
       "      <td>3</td>\n",
       "      <td>8</td>\n",
       "      <td>46</td>\n",
       "      <td>25</td>\n",
       "      <td>9</td>\n",
       "      <td>0</td>\n",
       "      <td>1</td>\n",
       "    </tr>\n",
       "  </tbody>\n",
       "</table>\n",
       "</div>"
      ],
      "text/plain": [
       "difficulty_rank   A   B   C   D    E    F  S\n",
       "type                                        \n",
       "National         12  11  35  14    3    2  5\n",
       "Private           9  19  37  52  141  318  4\n",
       "Public            3   8  46  25    9    0  1"
      ]
     },
     "execution_count": 150,
     "metadata": {},
     "output_type": "execute_result"
    }
   ],
   "source": [
    "#  Show review counts for different university types in Japan\n",
    "pd.pivot_table(df, index='type', columns='difficulty_rank', aggfunc='size', fill_value=0)"
   ]
  },
  {
   "cell_type": "code",
   "execution_count": 151,
   "metadata": {},
   "outputs": [
    {
     "data": {
      "text/html": [
       "<div>\n",
       "<style scoped>\n",
       "    .dataframe tbody tr th:only-of-type {\n",
       "        vertical-align: middle;\n",
       "    }\n",
       "\n",
       "    .dataframe tbody tr th {\n",
       "        vertical-align: top;\n",
       "    }\n",
       "\n",
       "    .dataframe thead th {\n",
       "        text-align: right;\n",
       "    }\n",
       "</style>\n",
       "<table border=\"1\" class=\"dataframe\">\n",
       "  <thead>\n",
       "    <tr style=\"text-align: right;\">\n",
       "      <th>difficulty_rank</th>\n",
       "      <th>A</th>\n",
       "      <th>B</th>\n",
       "      <th>C</th>\n",
       "      <th>D</th>\n",
       "      <th>E</th>\n",
       "      <th>F</th>\n",
       "      <th>S</th>\n",
       "    </tr>\n",
       "    <tr>\n",
       "      <th>type</th>\n",
       "      <th></th>\n",
       "      <th></th>\n",
       "      <th></th>\n",
       "      <th></th>\n",
       "      <th></th>\n",
       "      <th></th>\n",
       "      <th></th>\n",
       "    </tr>\n",
       "  </thead>\n",
       "  <tbody>\n",
       "    <tr>\n",
       "      <th>National</th>\n",
       "      <td>3</td>\n",
       "      <td>4</td>\n",
       "      <td>1</td>\n",
       "      <td>0</td>\n",
       "      <td>0</td>\n",
       "      <td>0</td>\n",
       "      <td>3</td>\n",
       "    </tr>\n",
       "    <tr>\n",
       "      <th>Private</th>\n",
       "      <td>7</td>\n",
       "      <td>10</td>\n",
       "      <td>17</td>\n",
       "      <td>22</td>\n",
       "      <td>26</td>\n",
       "      <td>27</td>\n",
       "      <td>4</td>\n",
       "    </tr>\n",
       "    <tr>\n",
       "      <th>Public</th>\n",
       "      <td>0</td>\n",
       "      <td>1</td>\n",
       "      <td>0</td>\n",
       "      <td>0</td>\n",
       "      <td>0</td>\n",
       "      <td>0</td>\n",
       "      <td>0</td>\n",
       "    </tr>\n",
       "  </tbody>\n",
       "</table>\n",
       "</div>"
      ],
      "text/plain": [
       "difficulty_rank  A   B   C   D   E   F  S\n",
       "type                                     \n",
       "National         3   4   1   0   0   0  3\n",
       "Private          7  10  17  22  26  27  4\n",
       "Public           0   1   0   0   0   0  0"
      ]
     },
     "execution_count": 151,
     "metadata": {},
     "output_type": "execute_result"
    }
   ],
   "source": [
    "#  Show review counts for different university types in Tokyo ONLY\n",
    "pd.pivot_table(df[df['state']=='Tokyo To'], index='type', columns='difficulty_rank', aggfunc='size', fill_value=0)"
   ]
  },
  {
   "cell_type": "markdown",
   "metadata": {},
   "source": [
    "___\n",
    "## B) GeoDataFrame Conversion (Coordinates data)"
   ]
  },
  {
   "cell_type": "code",
   "execution_count": 46,
   "metadata": {},
   "outputs": [],
   "source": [
    "# Libraries import\n",
    "import geopandas as gpd\n",
    "import geodatasets\n",
    "from geodatasets import get_path"
   ]
  },
  {
   "cell_type": "code",
   "execution_count": 51,
   "metadata": {},
   "outputs": [
    {
     "data": {
      "text/html": [
       "<div>\n",
       "<style scoped>\n",
       "    .dataframe tbody tr th:only-of-type {\n",
       "        vertical-align: middle;\n",
       "    }\n",
       "\n",
       "    .dataframe tbody tr th {\n",
       "        vertical-align: top;\n",
       "    }\n",
       "\n",
       "    .dataframe thead th {\n",
       "        text-align: right;\n",
       "    }\n",
       "</style>\n",
       "<table border=\"1\" class=\"dataframe\">\n",
       "  <thead>\n",
       "    <tr style=\"text-align: right;\">\n",
       "      <th></th>\n",
       "      <th>name</th>\n",
       "      <th>name_jp</th>\n",
       "      <th>type</th>\n",
       "      <th>state</th>\n",
       "      <th>state_jp</th>\n",
       "      <th>latitude</th>\n",
       "      <th>longitude</th>\n",
       "      <th>faculty_count</th>\n",
       "      <th>department_count</th>\n",
       "      <th>review_rating</th>\n",
       "      <th>review_count</th>\n",
       "      <th>difficulty_SD</th>\n",
       "      <th>difficulty_rank</th>\n",
       "      <th>geometry</th>\n",
       "    </tr>\n",
       "  </thead>\n",
       "  <tbody>\n",
       "    <tr>\n",
       "      <th>0</th>\n",
       "      <td>Hokkaido University</td>\n",
       "      <td>北海道大学</td>\n",
       "      <td>National</td>\n",
       "      <td>Hokkai Do</td>\n",
       "      <td>北海道</td>\n",
       "      <td>43.070446</td>\n",
       "      <td>141.347153</td>\n",
       "      <td>33</td>\n",
       "      <td>78</td>\n",
       "      <td>4.16</td>\n",
       "      <td>1389.0</td>\n",
       "      <td>60.4</td>\n",
       "      <td>A</td>\n",
       "      <td>POINT (141.34715 43.07045)</td>\n",
       "    </tr>\n",
       "    <tr>\n",
       "      <th>1</th>\n",
       "      <td>Hokkaido University of Education</td>\n",
       "      <td>北海道教育大学</td>\n",
       "      <td>National</td>\n",
       "      <td>Hokkai Do</td>\n",
       "      <td>北海道</td>\n",
       "      <td>43.170498</td>\n",
       "      <td>141.393753</td>\n",
       "      <td>3</td>\n",
       "      <td>8</td>\n",
       "      <td>3.79</td>\n",
       "      <td>544.0</td>\n",
       "      <td>47.1</td>\n",
       "      <td>D</td>\n",
       "      <td>POINT (141.39375 43.17050)</td>\n",
       "    </tr>\n",
       "    <tr>\n",
       "      <th>2</th>\n",
       "      <td>Muroran Institute of Technology</td>\n",
       "      <td>室蘭工業大学</td>\n",
       "      <td>National</td>\n",
       "      <td>Hokkai Do</td>\n",
       "      <td>北海道</td>\n",
       "      <td>42.378716</td>\n",
       "      <td>141.034042</td>\n",
       "      <td>3</td>\n",
       "      <td>10</td>\n",
       "      <td>3.66</td>\n",
       "      <td>126.0</td>\n",
       "      <td>39.0</td>\n",
       "      <td>F</td>\n",
       "      <td>POINT (141.03404 42.37872)</td>\n",
       "    </tr>\n",
       "    <tr>\n",
       "      <th>3</th>\n",
       "      <td>Otaru University of Commerce</td>\n",
       "      <td>小樽商科大学</td>\n",
       "      <td>National</td>\n",
       "      <td>Hokkai Do</td>\n",
       "      <td>北海道</td>\n",
       "      <td>43.190952</td>\n",
       "      <td>140.979370</td>\n",
       "      <td>2</td>\n",
       "      <td>6</td>\n",
       "      <td>3.80</td>\n",
       "      <td>257.0</td>\n",
       "      <td>50.0</td>\n",
       "      <td>C</td>\n",
       "      <td>POINT (140.97937 43.19095)</td>\n",
       "    </tr>\n",
       "    <tr>\n",
       "      <th>4</th>\n",
       "      <td>Obihiro University of Agriculture And Veterina...</td>\n",
       "      <td>帯広畜産大学</td>\n",
       "      <td>National</td>\n",
       "      <td>Hokkai Do</td>\n",
       "      <td>北海道</td>\n",
       "      <td>42.872356</td>\n",
       "      <td>143.177979</td>\n",
       "      <td>3</td>\n",
       "      <td>5</td>\n",
       "      <td>4.20</td>\n",
       "      <td>87.0</td>\n",
       "      <td>54.5</td>\n",
       "      <td>B</td>\n",
       "      <td>POINT (143.17798 42.87236)</td>\n",
       "    </tr>\n",
       "  </tbody>\n",
       "</table>\n",
       "</div>"
      ],
      "text/plain": [
       "                                                name  name_jp      type  \\\n",
       "0                                Hokkaido University    北海道大学  National   \n",
       "1                   Hokkaido University of Education  北海道教育大学  National   \n",
       "2                    Muroran Institute of Technology   室蘭工業大学  National   \n",
       "3                       Otaru University of Commerce   小樽商科大学  National   \n",
       "4  Obihiro University of Agriculture And Veterina...   帯広畜産大学  National   \n",
       "\n",
       "       state state_jp   latitude   longitude  faculty_count  department_count  \\\n",
       "0  Hokkai Do      北海道  43.070446  141.347153             33                78   \n",
       "1  Hokkai Do      北海道  43.170498  141.393753              3                 8   \n",
       "2  Hokkai Do      北海道  42.378716  141.034042              3                10   \n",
       "3  Hokkai Do      北海道  43.190952  140.979370              2                 6   \n",
       "4  Hokkai Do      北海道  42.872356  143.177979              3                 5   \n",
       "\n",
       "   review_rating  review_count  difficulty_SD difficulty_rank  \\\n",
       "0           4.16        1389.0           60.4               A   \n",
       "1           3.79         544.0           47.1               D   \n",
       "2           3.66         126.0           39.0               F   \n",
       "3           3.80         257.0           50.0               C   \n",
       "4           4.20          87.0           54.5               B   \n",
       "\n",
       "                     geometry  \n",
       "0  POINT (141.34715 43.07045)  \n",
       "1  POINT (141.39375 43.17050)  \n",
       "2  POINT (141.03404 42.37872)  \n",
       "3  POINT (140.97937 43.19095)  \n",
       "4  POINT (143.17798 42.87236)  "
      ]
     },
     "execution_count": 51,
     "metadata": {},
     "output_type": "execute_result"
    }
   ],
   "source": [
    "# Conversion of latitude & longitude into Geometry: points_from_xy()\n",
    "gdf = gpd.GeoDataFrame(df, geometry=gpd.points_from_xy(df.longitude, df.latitude))\n",
    "gdf.head()"
   ]
  },
  {
   "cell_type": "code",
   "execution_count": 49,
   "metadata": {},
   "outputs": [
    {
     "data": {
      "text/plain": [
       "<Axes: >"
      ]
     },
     "execution_count": 49,
     "metadata": {},
     "output_type": "execute_result"
    },
    {
     "data": {
      "image/png": "[encoded data removed]",
      "text/plain": [
       "<Figure size 640x480 with 1 Axes>"
      ]
     },
     "metadata": {},
     "output_type": "display_data"
    }
   ],
   "source": [
    "# Quick plot of coordinates without map base layer\n",
    "gdf.plot(markersize=1)"
   ]
  },
  {
   "cell_type": "code",
   "execution_count": 53,
   "metadata": {},
   "outputs": [
    {
     "name": "stderr",
     "output_type": "stream",
     "text": [
      "C:\\Users\\likre\\AppData\\Local\\Temp\\ipykernel_34096\\2759595265.py:2: UserWarning: Column names longer than 10 characters will be truncated when saved to ESRI Shapefile.\n",
      "  gdf.to_file(\"/Python for Solbridge Teaching/GS Localdata/localdata/japuni.shp\", crs='EPSG:4326')\n"
     ]
    },
    {
     "ename": "DriverIOError",
     "evalue": "Failed to create file /Python for Solbridge Teaching/GS Localdata/localdata\\japuni.shp: No error",
     "output_type": "error",
     "traceback": [
      "\u001b[1;31m---------------------------------------------------------------------------\u001b[0m",
      "\u001b[1;31mCPLE_AppDefinedError\u001b[0m                      Traceback (most recent call last)",
      "File \u001b[1;32mfiona\\\\ogrext.pyx:1239\u001b[0m, in \u001b[0;36mfiona.ogrext.WritingSession.start\u001b[1;34m()\u001b[0m\n",
      "File \u001b[1;32mfiona\\\\ogrext.pyx:1240\u001b[0m, in \u001b[0;36mfiona.ogrext.WritingSession.start\u001b[1;34m()\u001b[0m\n",
      "File \u001b[1;32mfiona\\\\_err.pyx:291\u001b[0m, in \u001b[0;36mfiona._err.exc_wrap_pointer\u001b[1;34m()\u001b[0m\n",
      "\u001b[1;31mCPLE_AppDefinedError\u001b[0m: Failed to create file /Python for Solbridge Teaching/GS Localdata/localdata\\japuni.shp: No error",
      "\nDuring handling of the above exception, another exception occurred:\n",
      "\u001b[1;31mDriverIOError\u001b[0m                             Traceback (most recent call last)",
      "Cell \u001b[1;32mIn[53], line 2\u001b[0m\n\u001b[0;32m      1\u001b[0m \u001b[38;5;66;03m# CSV conversion to Shapefile(.shp)\u001b[39;00m\n\u001b[1;32m----> 2\u001b[0m \u001b[43mgdf\u001b[49m\u001b[38;5;241;43m.\u001b[39;49m\u001b[43mto_file\u001b[49m\u001b[43m(\u001b[49m\u001b[38;5;124;43m\"\u001b[39;49m\u001b[38;5;124;43m/Python for Solbridge Teaching/GS Localdata/localdata/japuni.shp\u001b[39;49m\u001b[38;5;124;43m\"\u001b[39;49m\u001b[43m,\u001b[49m\u001b[43m \u001b[49m\u001b[43mcrs\u001b[49m\u001b[38;5;241;43m=\u001b[39;49m\u001b[38;5;124;43m'\u001b[39;49m\u001b[38;5;124;43mEPSG:4326\u001b[39;49m\u001b[38;5;124;43m'\u001b[39;49m\u001b[43m)\u001b[49m\n",
      "File \u001b[1;32mc:\\Users\\likre\\AppData\\Local\\Programs\\Python\\Python312\\Lib\\site-packages\\geopandas\\geodataframe.py:1264\u001b[0m, in \u001b[0;36mGeoDataFrame.to_file\u001b[1;34m(self, filename, driver, schema, index, **kwargs)\u001b[0m\n\u001b[0;32m   1173\u001b[0m \u001b[38;5;250m\u001b[39m\u001b[38;5;124;03m\"\"\"Write the ``GeoDataFrame`` to a file.\u001b[39;00m\n\u001b[0;32m   1174\u001b[0m \n\u001b[0;32m   1175\u001b[0m \u001b[38;5;124;03mBy default, an ESRI shapefile is written, but any OGR data source\u001b[39;00m\n\u001b[1;32m   (...)\u001b[0m\n\u001b[0;32m   1260\u001b[0m \n\u001b[0;32m   1261\u001b[0m \u001b[38;5;124;03m\"\"\"\u001b[39;00m\n\u001b[0;32m   1262\u001b[0m \u001b[38;5;28;01mfrom\u001b[39;00m \u001b[38;5;21;01mgeopandas\u001b[39;00m\u001b[38;5;21;01m.\u001b[39;00m\u001b[38;5;21;01mio\u001b[39;00m\u001b[38;5;21;01m.\u001b[39;00m\u001b[38;5;21;01mfile\u001b[39;00m \u001b[38;5;28;01mimport\u001b[39;00m _to_file\n\u001b[1;32m-> 1264\u001b[0m \u001b[43m_to_file\u001b[49m\u001b[43m(\u001b[49m\u001b[38;5;28;43mself\u001b[39;49m\u001b[43m,\u001b[49m\u001b[43m \u001b[49m\u001b[43mfilename\u001b[49m\u001b[43m,\u001b[49m\u001b[43m \u001b[49m\u001b[43mdriver\u001b[49m\u001b[43m,\u001b[49m\u001b[43m \u001b[49m\u001b[43mschema\u001b[49m\u001b[43m,\u001b[49m\u001b[43m \u001b[49m\u001b[43mindex\u001b[49m\u001b[43m,\u001b[49m\u001b[43m \u001b[49m\u001b[38;5;241;43m*\u001b[39;49m\u001b[38;5;241;43m*\u001b[39;49m\u001b[43mkwargs\u001b[49m\u001b[43m)\u001b[49m\n",
      "File \u001b[1;32mc:\\Users\\likre\\AppData\\Local\\Programs\\Python\\Python312\\Lib\\site-packages\\geopandas\\io\\file.py:608\u001b[0m, in \u001b[0;36m_to_file\u001b[1;34m(df, filename, driver, schema, index, mode, crs, engine, **kwargs)\u001b[0m\n\u001b[0;32m    605\u001b[0m     \u001b[38;5;28;01mraise\u001b[39;00m \u001b[38;5;167;01mValueError\u001b[39;00m(\u001b[38;5;124mf\u001b[39m\u001b[38;5;124m\"\u001b[39m\u001b[38;5;124m'\u001b[39m\u001b[38;5;124mmode\u001b[39m\u001b[38;5;124m'\u001b[39m\u001b[38;5;124m should be one of \u001b[39m\u001b[38;5;124m'\u001b[39m\u001b[38;5;124mw\u001b[39m\u001b[38;5;124m'\u001b[39m\u001b[38;5;124m or \u001b[39m\u001b[38;5;124m'\u001b[39m\u001b[38;5;124ma\u001b[39m\u001b[38;5;124m'\u001b[39m\u001b[38;5;124m, got \u001b[39m\u001b[38;5;124m'\u001b[39m\u001b[38;5;132;01m{\u001b[39;00mmode\u001b[38;5;132;01m}\u001b[39;00m\u001b[38;5;124m'\u001b[39m\u001b[38;5;124m instead\u001b[39m\u001b[38;5;124m\"\u001b[39m)\n\u001b[0;32m    607\u001b[0m \u001b[38;5;28;01mif\u001b[39;00m engine \u001b[38;5;241m==\u001b[39m \u001b[38;5;124m\"\u001b[39m\u001b[38;5;124mfiona\u001b[39m\u001b[38;5;124m\"\u001b[39m:\n\u001b[1;32m--> 608\u001b[0m     \u001b[43m_to_file_fiona\u001b[49m\u001b[43m(\u001b[49m\u001b[43mdf\u001b[49m\u001b[43m,\u001b[49m\u001b[43m \u001b[49m\u001b[43mfilename\u001b[49m\u001b[43m,\u001b[49m\u001b[43m \u001b[49m\u001b[43mdriver\u001b[49m\u001b[43m,\u001b[49m\u001b[43m \u001b[49m\u001b[43mschema\u001b[49m\u001b[43m,\u001b[49m\u001b[43m \u001b[49m\u001b[43mcrs\u001b[49m\u001b[43m,\u001b[49m\u001b[43m \u001b[49m\u001b[43mmode\u001b[49m\u001b[43m,\u001b[49m\u001b[43m \u001b[49m\u001b[38;5;241;43m*\u001b[39;49m\u001b[38;5;241;43m*\u001b[39;49m\u001b[43mkwargs\u001b[49m\u001b[43m)\u001b[49m\n\u001b[0;32m    609\u001b[0m \u001b[38;5;28;01melif\u001b[39;00m engine \u001b[38;5;241m==\u001b[39m \u001b[38;5;124m\"\u001b[39m\u001b[38;5;124mpyogrio\u001b[39m\u001b[38;5;124m\"\u001b[39m:\n\u001b[0;32m    610\u001b[0m     _to_file_pyogrio(df, filename, driver, schema, crs, mode, \u001b[38;5;241m*\u001b[39m\u001b[38;5;241m*\u001b[39mkwargs)\n",
      "File \u001b[1;32mc:\\Users\\likre\\AppData\\Local\\Programs\\Python\\Python312\\Lib\\site-packages\\geopandas\\io\\file.py:634\u001b[0m, in \u001b[0;36m_to_file_fiona\u001b[1;34m(df, filename, driver, schema, crs, mode, **kwargs)\u001b[0m\n\u001b[0;32m    632\u001b[0m \u001b[38;5;28;01melif\u001b[39;00m crs:\n\u001b[0;32m    633\u001b[0m     crs_wkt \u001b[38;5;241m=\u001b[39m crs\u001b[38;5;241m.\u001b[39mto_wkt(\u001b[38;5;124m\"\u001b[39m\u001b[38;5;124mWKT1_GDAL\u001b[39m\u001b[38;5;124m\"\u001b[39m)\n\u001b[1;32m--> 634\u001b[0m \u001b[38;5;28;01mwith\u001b[39;00m \u001b[43mfiona\u001b[49m\u001b[38;5;241;43m.\u001b[39;49m\u001b[43mopen\u001b[49m\u001b[43m(\u001b[49m\n\u001b[0;32m    635\u001b[0m \u001b[43m    \u001b[49m\u001b[43mfilename\u001b[49m\u001b[43m,\u001b[49m\u001b[43m \u001b[49m\u001b[43mmode\u001b[49m\u001b[38;5;241;43m=\u001b[39;49m\u001b[43mmode\u001b[49m\u001b[43m,\u001b[49m\u001b[43m \u001b[49m\u001b[43mdriver\u001b[49m\u001b[38;5;241;43m=\u001b[39;49m\u001b[43mdriver\u001b[49m\u001b[43m,\u001b[49m\u001b[43m \u001b[49m\u001b[43mcrs_wkt\u001b[49m\u001b[38;5;241;43m=\u001b[39;49m\u001b[43mcrs_wkt\u001b[49m\u001b[43m,\u001b[49m\u001b[43m \u001b[49m\u001b[43mschema\u001b[49m\u001b[38;5;241;43m=\u001b[39;49m\u001b[43mschema\u001b[49m\u001b[43m,\u001b[49m\u001b[43m \u001b[49m\u001b[38;5;241;43m*\u001b[39;49m\u001b[38;5;241;43m*\u001b[39;49m\u001b[43mkwargs\u001b[49m\n\u001b[0;32m    636\u001b[0m \u001b[43m\u001b[49m\u001b[43m)\u001b[49m \u001b[38;5;28;01mas\u001b[39;00m colxn:\n\u001b[0;32m    637\u001b[0m     colxn\u001b[38;5;241m.\u001b[39mwriterecords(df\u001b[38;5;241m.\u001b[39miterfeatures())\n",
      "File \u001b[1;32mc:\\Users\\likre\\AppData\\Local\\Programs\\Python\\Python312\\Lib\\site-packages\\fiona\\env.py:457\u001b[0m, in \u001b[0;36mensure_env_with_credentials.<locals>.wrapper\u001b[1;34m(*args, **kwds)\u001b[0m\n\u001b[0;32m    454\u001b[0m     session \u001b[38;5;241m=\u001b[39m DummySession()\n\u001b[0;32m    456\u001b[0m \u001b[38;5;28;01mwith\u001b[39;00m env_ctor(session\u001b[38;5;241m=\u001b[39msession):\n\u001b[1;32m--> 457\u001b[0m     \u001b[38;5;28;01mreturn\u001b[39;00m \u001b[43mf\u001b[49m\u001b[43m(\u001b[49m\u001b[38;5;241;43m*\u001b[39;49m\u001b[43margs\u001b[49m\u001b[43m,\u001b[49m\u001b[43m \u001b[49m\u001b[38;5;241;43m*\u001b[39;49m\u001b[38;5;241;43m*\u001b[39;49m\u001b[43mkwds\u001b[49m\u001b[43m)\u001b[49m\n",
      "File \u001b[1;32mc:\\Users\\likre\\AppData\\Local\\Programs\\Python\\Python312\\Lib\\site-packages\\fiona\\__init__.py:316\u001b[0m, in \u001b[0;36mopen\u001b[1;34m(fp, mode, driver, schema, crs, encoding, layer, vfs, enabled_drivers, crs_wkt, allow_unsupported_drivers, **kwargs)\u001b[0m\n\u001b[0;32m    305\u001b[0m     colxn \u001b[38;5;241m=\u001b[39m Collection(\n\u001b[0;32m    306\u001b[0m         path,\n\u001b[0;32m    307\u001b[0m         mode,\n\u001b[1;32m   (...)\u001b[0m\n\u001b[0;32m    313\u001b[0m         \u001b[38;5;241m*\u001b[39m\u001b[38;5;241m*\u001b[39mkwargs\n\u001b[0;32m    314\u001b[0m     )\n\u001b[0;32m    315\u001b[0m \u001b[38;5;28;01melif\u001b[39;00m mode \u001b[38;5;241m==\u001b[39m \u001b[38;5;124m\"\u001b[39m\u001b[38;5;124mw\u001b[39m\u001b[38;5;124m\"\u001b[39m:\n\u001b[1;32m--> 316\u001b[0m     colxn \u001b[38;5;241m=\u001b[39m \u001b[43mCollection\u001b[49m\u001b[43m(\u001b[49m\n\u001b[0;32m    317\u001b[0m \u001b[43m        \u001b[49m\u001b[43mpath\u001b[49m\u001b[43m,\u001b[49m\n\u001b[0;32m    318\u001b[0m \u001b[43m        \u001b[49m\u001b[43mmode\u001b[49m\u001b[43m,\u001b[49m\n\u001b[0;32m    319\u001b[0m \u001b[43m        \u001b[49m\u001b[43mcrs\u001b[49m\u001b[38;5;241;43m=\u001b[39;49m\u001b[43mcrs\u001b[49m\u001b[43m,\u001b[49m\n\u001b[0;32m    320\u001b[0m \u001b[43m        \u001b[49m\u001b[43mdriver\u001b[49m\u001b[38;5;241;43m=\u001b[39;49m\u001b[43mdriver\u001b[49m\u001b[43m,\u001b[49m\n\u001b[0;32m    321\u001b[0m \u001b[43m        \u001b[49m\u001b[43mschema\u001b[49m\u001b[38;5;241;43m=\u001b[39;49m\u001b[43mschema\u001b[49m\u001b[43m,\u001b[49m\n\u001b[0;32m    322\u001b[0m \u001b[43m        \u001b[49m\u001b[43mencoding\u001b[49m\u001b[38;5;241;43m=\u001b[39;49m\u001b[43mencoding\u001b[49m\u001b[43m,\u001b[49m\n\u001b[0;32m    323\u001b[0m \u001b[43m        \u001b[49m\u001b[43mlayer\u001b[49m\u001b[38;5;241;43m=\u001b[39;49m\u001b[43mlayer\u001b[49m\u001b[43m,\u001b[49m\n\u001b[0;32m    324\u001b[0m \u001b[43m        \u001b[49m\u001b[43menabled_drivers\u001b[49m\u001b[38;5;241;43m=\u001b[39;49m\u001b[43menabled_drivers\u001b[49m\u001b[43m,\u001b[49m\n\u001b[0;32m    325\u001b[0m \u001b[43m        \u001b[49m\u001b[43mcrs_wkt\u001b[49m\u001b[38;5;241;43m=\u001b[39;49m\u001b[43mcrs_wkt\u001b[49m\u001b[43m,\u001b[49m\n\u001b[0;32m    326\u001b[0m \u001b[43m        \u001b[49m\u001b[43mallow_unsupported_drivers\u001b[49m\u001b[38;5;241;43m=\u001b[39;49m\u001b[43mallow_unsupported_drivers\u001b[49m\u001b[43m,\u001b[49m\n\u001b[0;32m    327\u001b[0m \u001b[43m        \u001b[49m\u001b[38;5;241;43m*\u001b[39;49m\u001b[38;5;241;43m*\u001b[39;49m\u001b[43mkwargs\u001b[49m\n\u001b[0;32m    328\u001b[0m \u001b[43m    \u001b[49m\u001b[43m)\u001b[49m\n\u001b[0;32m    329\u001b[0m \u001b[38;5;28;01melse\u001b[39;00m:\n\u001b[0;32m    330\u001b[0m     \u001b[38;5;28;01mraise\u001b[39;00m \u001b[38;5;167;01mValueError\u001b[39;00m(\u001b[38;5;124m\"\u001b[39m\u001b[38;5;124mmode string must be one of \u001b[39m\u001b[38;5;124m{\u001b[39m\u001b[38;5;124m'\u001b[39m\u001b[38;5;124mr\u001b[39m\u001b[38;5;124m'\u001b[39m\u001b[38;5;124m, \u001b[39m\u001b[38;5;124m'\u001b[39m\u001b[38;5;124mw\u001b[39m\u001b[38;5;124m'\u001b[39m\u001b[38;5;124m, \u001b[39m\u001b[38;5;124m'\u001b[39m\u001b[38;5;124ma\u001b[39m\u001b[38;5;124m'\u001b[39m\u001b[38;5;124m}\u001b[39m\u001b[38;5;124m\"\u001b[39m)\n",
      "File \u001b[1;32mc:\\Users\\likre\\AppData\\Local\\Programs\\Python\\Python312\\Lib\\site-packages\\fiona\\collection.py:246\u001b[0m, in \u001b[0;36mCollection.__init__\u001b[1;34m(self, path, mode, driver, schema, crs, encoding, layer, vsi, archive, enabled_drivers, crs_wkt, ignore_fields, ignore_geometry, include_fields, wkt_version, allow_unsupported_drivers, **kwargs)\u001b[0m\n\u001b[0;32m    244\u001b[0m     \u001b[38;5;28;01melif\u001b[39;00m \u001b[38;5;28mself\u001b[39m\u001b[38;5;241m.\u001b[39mmode \u001b[38;5;129;01min\u001b[39;00m (\u001b[38;5;124m\"\u001b[39m\u001b[38;5;124ma\u001b[39m\u001b[38;5;124m\"\u001b[39m, \u001b[38;5;124m\"\u001b[39m\u001b[38;5;124mw\u001b[39m\u001b[38;5;124m\"\u001b[39m):\n\u001b[0;32m    245\u001b[0m         \u001b[38;5;28mself\u001b[39m\u001b[38;5;241m.\u001b[39msession \u001b[38;5;241m=\u001b[39m WritingSession()\n\u001b[1;32m--> 246\u001b[0m         \u001b[38;5;28;43mself\u001b[39;49m\u001b[38;5;241;43m.\u001b[39;49m\u001b[43msession\u001b[49m\u001b[38;5;241;43m.\u001b[39;49m\u001b[43mstart\u001b[49m\u001b[43m(\u001b[49m\u001b[38;5;28;43mself\u001b[39;49m\u001b[43m,\u001b[49m\u001b[43m \u001b[49m\u001b[38;5;241;43m*\u001b[39;49m\u001b[38;5;241;43m*\u001b[39;49m\u001b[43mkwargs\u001b[49m\u001b[43m)\u001b[49m\n\u001b[0;32m    247\u001b[0m \u001b[38;5;28;01mexcept\u001b[39;00m \u001b[38;5;167;01mOSError\u001b[39;00m:\n\u001b[0;32m    248\u001b[0m     \u001b[38;5;28mself\u001b[39m\u001b[38;5;241m.\u001b[39msession \u001b[38;5;241m=\u001b[39m \u001b[38;5;28;01mNone\u001b[39;00m\n",
      "File \u001b[1;32mfiona\\\\ogrext.pyx:1248\u001b[0m, in \u001b[0;36mfiona.ogrext.WritingSession.start\u001b[1;34m()\u001b[0m\n",
      "\u001b[1;31mDriverIOError\u001b[0m: Failed to create file /Python for Solbridge Teaching/GS Localdata/localdata\\japuni.shp: No error"
     ]
    }
   ],
   "source": [
    "# CSV conversion to Shapefile(.shp)\n",
    "gdf.to_file(\"/Python for Solbridge Teaching/GS Localdata/localdata/japuni.shp\", crs='EPSG:4326')"
   ]
  }
 ],
 "metadata": {
  "kernelspec": {
   "display_name": "Python 3",
   "language": "python",
   "name": "python3"
  },
  "language_info": {
   "codemirror_mode": {
    "name": "ipython",
    "version": 3
   },
   "file_extension": ".py",
   "mimetype": "text/x-python",
   "name": "python",
   "nbconvert_exporter": "python",
   "pygments_lexer": "ipython3",
   "version": "3.12.1"
  }
 },
 "nbformat": 4,
 "nbformat_minor": 2
}
