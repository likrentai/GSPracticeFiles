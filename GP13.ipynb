{
 "cells": [
  {
   "cell_type": "markdown",
   "metadata": {},
   "source": [
    "# GP13 GeoPandas\n",
    "GeoPandas Full Documentation: https://geopandas.org/en/stable/docs.html\n",
    "\n",
    "Spatial Reference: https://spatialreference.org/\n",
    "\n",
    "GeoPy Documentation: https://geopy.readthedocs.io/en/stable/\n",
    "___\n",
    "## 19. Geocoding\n",
    "* Often, pre-processing of datasets are required as geographic information such as location latitude and longtitude are missing.\n",
    "* Geocoding is a process of taking a text-based description of a location (such as an address) and returning geographic coordinates, frequently latitude/longitude pair, to identify a location on the Earth's surface.\n",
    "* GeoPy (a python geocoding toolbox) can be used to to locate the coordinates of addresses, cities, countries, and landmarks across the globe using third-party geocoders and other data sources.\n",
    "* GeoPy uses various geocoding services (see below) including Google Maps, Azure Maps, etc. Some require API keys. In this exercise, the OpenStreetMap geocoding service will be illustrated."
   ]
  },
  {
   "cell_type": "markdown",
   "metadata": {},
   "source": [
    "\n",
    "<img src=\"https://geopy.readthedocs.io/en/stable/_static/geopy_and_geocoding_services.svg\"></img>"
   ]
  },
  {
   "cell_type": "code",
   "execution_count": 1,
   "metadata": {},
   "outputs": [],
   "source": [
    "# All libraries import\n",
    "import pandas as pd\n",
    "import geopandas as gpd\n",
    "import geopy\n",
    "from geopy.geocoders import Nominatim\n",
    "from geopy.extra.rate_limiter import RateLimiter\n",
    "import matplotlib.pyplot as plt\n",
    "import folium\n",
    "from folium.plugins import FastMarkerCluster"
   ]
  },
  {
   "cell_type": "markdown",
   "metadata": {},
   "source": [
    "### Single Address Geocoding\n",
    "* Geographical coordinates corresponding to the search location will be provided.\n",
    "* **IMPORTANT NOTE**: For the method Nominatim(user_agent=''), create and use any unique name (see below)."
   ]
  },
  {
   "cell_type": "code",
   "execution_count": 2,
   "metadata": {},
   "outputs": [
    {
     "name": "stdout",
     "output_type": "stream",
     "text": [
      "[Location(솔브릿지국제경영대학, 128, 우암로, 삼성동, 동구, 대전, 34613, 대한민국, (36.338458700000004, 127.43247014647005, 0.0))]\n"
     ]
    }
   ],
   "source": [
    "# Method One: Specific address + the user agent name as test1\n",
    "a = '128 Uam-ro, Samseong-dong, Dong-gu, Daejeon'\n",
    "geolocator = Nominatim(user_agent='test1')\n",
    "location = geolocator.geocode(a, timeout=10, exactly_one=False)\n",
    "print(location)"
   ]
  },
  {
   "cell_type": "code",
   "execution_count": 12,
   "metadata": {},
   "outputs": [
    {
     "name": "stdout",
     "output_type": "stream",
     "text": [
      "광화문, 172, 세종대로, 중학동, 종로1·2·3·4가동, 종로구, 서울, 03141, 대한민국\n",
      "Latitude = 37.5716162, Longitude = 126.9769026\n"
     ]
    }
   ],
   "source": [
    "# # Method Two: Input a landmark name + Print full address + Print full coordinates.\n",
    "locator = Nominatim(user_agent='test2')\n",
    "location = locator.geocode(\"Gwanghwamun, Seoul, South Korea\")\n",
    "print(location.address)\n",
    "print(\"Latitude = {}, Longitude = {}\".format(location.latitude, location.longitude))"
   ]
  },
  {
   "cell_type": "markdown",
   "metadata": {},
   "source": [
    "### Geocoding with Pandas DataFrame\n",
    "* Load example dataset file: 'localdata/sweden_addresses.csv'\n",
    "* Display data rows."
   ]
  },
  {
   "cell_type": "code",
   "execution_count": 3,
   "metadata": {},
   "outputs": [
    {
     "data": {
      "text/html": [
       "<div>\n",
       "<style scoped>\n",
       "    .dataframe tbody tr th:only-of-type {\n",
       "        vertical-align: middle;\n",
       "    }\n",
       "\n",
       "    .dataframe tbody tr th {\n",
       "        vertical-align: top;\n",
       "    }\n",
       "\n",
       "    .dataframe thead th {\n",
       "        text-align: right;\n",
       "    }\n",
       "</style>\n",
       "<table border=\"1\" class=\"dataframe\">\n",
       "  <thead>\n",
       "    <tr style=\"text-align: right;\">\n",
       "      <th></th>\n",
       "      <th>Typ</th>\n",
       "      <th>Nr</th>\n",
       "      <th>Namn</th>\n",
       "      <th>Address1</th>\n",
       "      <th>Address3</th>\n",
       "      <th>Address4</th>\n",
       "      <th>Address5</th>\n",
       "      <th>Telefon</th>\n",
       "    </tr>\n",
       "  </thead>\n",
       "  <tbody>\n",
       "    <tr>\n",
       "      <th>0</th>\n",
       "      <td>Butik</td>\n",
       "      <td>102</td>\n",
       "      <td>Fältöversten</td>\n",
       "      <td>Karlaplan 13</td>\n",
       "      <td>115 20</td>\n",
       "      <td>STOCKHOLM</td>\n",
       "      <td>Stockholms län</td>\n",
       "      <td>08/662 22 89</td>\n",
       "    </tr>\n",
       "    <tr>\n",
       "      <th>1</th>\n",
       "      <td>Butik</td>\n",
       "      <td>104</td>\n",
       "      <td>NaN</td>\n",
       "      <td>Nybrogatan 47</td>\n",
       "      <td>114 39</td>\n",
       "      <td>STOCKHOLM</td>\n",
       "      <td>Stockholms län</td>\n",
       "      <td>08/662 50 16</td>\n",
       "    </tr>\n",
       "    <tr>\n",
       "      <th>2</th>\n",
       "      <td>Butik</td>\n",
       "      <td>106</td>\n",
       "      <td>Garnisonen</td>\n",
       "      <td>Karlavägen 100 A</td>\n",
       "      <td>115 26</td>\n",
       "      <td>STOCKHOLM</td>\n",
       "      <td>Stockholms län</td>\n",
       "      <td>08/662 64 85</td>\n",
       "    </tr>\n",
       "  </tbody>\n",
       "</table>\n",
       "</div>"
      ],
      "text/plain": [
       "     Typ   Nr          Namn          Address1 Address3   Address4  \\\n",
       "0  Butik  102  Fältöversten      Karlaplan 13   115 20  STOCKHOLM   \n",
       "1  Butik  104           NaN     Nybrogatan 47   114 39  STOCKHOLM   \n",
       "2  Butik  106    Garnisonen  Karlavägen 100 A   115 26  STOCKHOLM   \n",
       "\n",
       "         Address5       Telefon  \n",
       "0  Stockholms län  08/662 22 89  \n",
       "1  Stockholms län  08/662 50 16  \n",
       "2  Stockholms län  08/662 64 85  "
      ]
     },
     "execution_count": 3,
     "metadata": {},
     "output_type": "execute_result"
    }
   ],
   "source": [
    "df = pd.read_csv(\"localdata/sweden_addresses.csv\")\n",
    "df.head(3)"
   ]
  },
  {
   "cell_type": "markdown",
   "metadata": {},
   "source": [
    "* Create a new column based on the address1 to 5 columns."
   ]
  },
  {
   "cell_type": "code",
   "execution_count": 4,
   "metadata": {},
   "outputs": [
    {
     "data": {
      "text/html": [
       "<div>\n",
       "<style scoped>\n",
       "    .dataframe tbody tr th:only-of-type {\n",
       "        vertical-align: middle;\n",
       "    }\n",
       "\n",
       "    .dataframe tbody tr th {\n",
       "        vertical-align: top;\n",
       "    }\n",
       "\n",
       "    .dataframe thead th {\n",
       "        text-align: right;\n",
       "    }\n",
       "</style>\n",
       "<table border=\"1\" class=\"dataframe\">\n",
       "  <thead>\n",
       "    <tr style=\"text-align: right;\">\n",
       "      <th></th>\n",
       "      <th>Typ</th>\n",
       "      <th>Nr</th>\n",
       "      <th>Namn</th>\n",
       "      <th>Address1</th>\n",
       "      <th>Address3</th>\n",
       "      <th>Address4</th>\n",
       "      <th>Address5</th>\n",
       "      <th>Telefon</th>\n",
       "      <th>ADDRESS</th>\n",
       "    </tr>\n",
       "  </thead>\n",
       "  <tbody>\n",
       "    <tr>\n",
       "      <th>0</th>\n",
       "      <td>Butik</td>\n",
       "      <td>102</td>\n",
       "      <td>Fältöversten</td>\n",
       "      <td>Karlaplan 13</td>\n",
       "      <td>115 20</td>\n",
       "      <td>STOCKHOLM</td>\n",
       "      <td>Stockholms län</td>\n",
       "      <td>08/662 22 89</td>\n",
       "      <td>Karlaplan 13, 115 20, STOCKHOLM, Stockholms lä...</td>\n",
       "    </tr>\n",
       "    <tr>\n",
       "      <th>1</th>\n",
       "      <td>Butik</td>\n",
       "      <td>104</td>\n",
       "      <td>NaN</td>\n",
       "      <td>Nybrogatan 47</td>\n",
       "      <td>114 39</td>\n",
       "      <td>STOCKHOLM</td>\n",
       "      <td>Stockholms län</td>\n",
       "      <td>08/662 50 16</td>\n",
       "      <td>Nybrogatan 47, 114 39, STOCKHOLM, Stockholms l...</td>\n",
       "    </tr>\n",
       "    <tr>\n",
       "      <th>2</th>\n",
       "      <td>Butik</td>\n",
       "      <td>106</td>\n",
       "      <td>Garnisonen</td>\n",
       "      <td>Karlavägen 100 A</td>\n",
       "      <td>115 26</td>\n",
       "      <td>STOCKHOLM</td>\n",
       "      <td>Stockholms län</td>\n",
       "      <td>08/662 64 85</td>\n",
       "      <td>Karlavägen 100 A, 115 26, STOCKHOLM, Stockholm...</td>\n",
       "    </tr>\n",
       "  </tbody>\n",
       "</table>\n",
       "</div>"
      ],
      "text/plain": [
       "     Typ   Nr          Namn          Address1 Address3   Address4  \\\n",
       "0  Butik  102  Fältöversten      Karlaplan 13   115 20  STOCKHOLM   \n",
       "1  Butik  104           NaN     Nybrogatan 47   114 39  STOCKHOLM   \n",
       "2  Butik  106    Garnisonen  Karlavägen 100 A   115 26  STOCKHOLM   \n",
       "\n",
       "         Address5       Telefon  \\\n",
       "0  Stockholms län  08/662 22 89   \n",
       "1  Stockholms län  08/662 50 16   \n",
       "2  Stockholms län  08/662 64 85   \n",
       "\n",
       "                                             ADDRESS  \n",
       "0  Karlaplan 13, 115 20, STOCKHOLM, Stockholms lä...  \n",
       "1  Nybrogatan 47, 114 39, STOCKHOLM, Stockholms l...  \n",
       "2  Karlavägen 100 A, 115 26, STOCKHOLM, Stockholm...  "
      ]
     },
     "execution_count": 4,
     "metadata": {},
     "output_type": "execute_result"
    }
   ],
   "source": [
    "df['ADDRESS'] = df['Address1'].astype(str) + ', ' + df['Address3'] + ', ' + df['Address4'] + ', ' + df['Address5'] + ', Sweden'   \n",
    "df.head(3)"
   ]
  },
  {
   "cell_type": "markdown",
   "metadata": {},
   "source": [
    "* Apply the geocoder to the addresses in the newly created column, ['ADDRESS']. New columns, ['location'] and ['point'] will be created."
   ]
  },
  {
   "cell_type": "code",
   "execution_count": null,
   "metadata": {},
   "outputs": [],
   "source": [
    "from geopy.extra.rate_limiter import RateLimiter\n",
    "locator = Nominatim(user_agent='test3')\n",
    "geocode = RateLimiter(locator.geocode, min_delay_seconds=1)\n",
    "df['location'] = df['ADDRESS'].apply(geocode)\n",
    "df['point'] = df['location'].apply(lambda loc: tuple(loc.point) if loc else None)\n",
    "df.head(3)"
   ]
  },
  {
   "cell_type": "markdown",
   "metadata": {},
   "source": [
    "* Split the column, ['point'] into latitude, longitude and altitude columns"
   ]
  },
  {
   "cell_type": "code",
   "execution_count": 7,
   "metadata": {},
   "outputs": [
    {
     "data": {
      "text/html": [
       "<div>\n",
       "<style scoped>\n",
       "    .dataframe tbody tr th:only-of-type {\n",
       "        vertical-align: middle;\n",
       "    }\n",
       "\n",
       "    .dataframe tbody tr th {\n",
       "        vertical-align: top;\n",
       "    }\n",
       "\n",
       "    .dataframe thead th {\n",
       "        text-align: right;\n",
       "    }\n",
       "</style>\n",
       "<table border=\"1\" class=\"dataframe\">\n",
       "  <thead>\n",
       "    <tr style=\"text-align: right;\">\n",
       "      <th></th>\n",
       "      <th>Typ</th>\n",
       "      <th>Nr</th>\n",
       "      <th>Namn</th>\n",
       "      <th>Address1</th>\n",
       "      <th>Address3</th>\n",
       "      <th>Address4</th>\n",
       "      <th>Address5</th>\n",
       "      <th>Telefon</th>\n",
       "      <th>ADDRESS</th>\n",
       "      <th>location</th>\n",
       "      <th>point</th>\n",
       "      <th>latitude</th>\n",
       "      <th>longitude</th>\n",
       "      <th>altitude</th>\n",
       "    </tr>\n",
       "  </thead>\n",
       "  <tbody>\n",
       "    <tr>\n",
       "      <th>0</th>\n",
       "      <td>Butik</td>\n",
       "      <td>102</td>\n",
       "      <td>Fältöversten</td>\n",
       "      <td>Karlaplan 13</td>\n",
       "      <td>115 20</td>\n",
       "      <td>STOCKHOLM</td>\n",
       "      <td>Stockholms län</td>\n",
       "      <td>08/662 22 89</td>\n",
       "      <td>Karlaplan 13, 115 20, STOCKHOLM, Stockholms lä...</td>\n",
       "      <td>(13, Karlaplan, Östermalm, Norra Innerstaden, ...</td>\n",
       "      <td>(59.3388767, 18.0908655, 0.0)</td>\n",
       "      <td>59.338877</td>\n",
       "      <td>18.090865</td>\n",
       "      <td>0.0</td>\n",
       "    </tr>\n",
       "    <tr>\n",
       "      <th>1</th>\n",
       "      <td>Butik</td>\n",
       "      <td>104</td>\n",
       "      <td>NaN</td>\n",
       "      <td>Nybrogatan 47</td>\n",
       "      <td>114 39</td>\n",
       "      <td>STOCKHOLM</td>\n",
       "      <td>Stockholms län</td>\n",
       "      <td>08/662 50 16</td>\n",
       "      <td>Nybrogatan 47, 114 39, STOCKHOLM, Stockholms l...</td>\n",
       "      <td>(47, Nybrogatan, Villastaden, Östermalm, Norra...</td>\n",
       "      <td>(59.3372072, 18.0790982, 0.0)</td>\n",
       "      <td>59.337207</td>\n",
       "      <td>18.079098</td>\n",
       "      <td>0.0</td>\n",
       "    </tr>\n",
       "    <tr>\n",
       "      <th>2</th>\n",
       "      <td>Butik</td>\n",
       "      <td>106</td>\n",
       "      <td>Garnisonen</td>\n",
       "      <td>Karlavägen 100 A</td>\n",
       "      <td>115 26</td>\n",
       "      <td>STOCKHOLM</td>\n",
       "      <td>Stockholms län</td>\n",
       "      <td>08/662 64 85</td>\n",
       "      <td>Karlavägen 100 A, 115 26, STOCKHOLM, Stockholm...</td>\n",
       "      <td>(Karlavägen, Östermalm, Norra Innerstaden, Sto...</td>\n",
       "      <td>(59.3354138, 18.1004767, 0.0)</td>\n",
       "      <td>59.335414</td>\n",
       "      <td>18.100477</td>\n",
       "      <td>0.0</td>\n",
       "    </tr>\n",
       "  </tbody>\n",
       "</table>\n",
       "</div>"
      ],
      "text/plain": [
       "     Typ   Nr          Namn          Address1 Address3   Address4  \\\n",
       "0  Butik  102  Fältöversten      Karlaplan 13   115 20  STOCKHOLM   \n",
       "1  Butik  104           NaN     Nybrogatan 47   114 39  STOCKHOLM   \n",
       "2  Butik  106    Garnisonen  Karlavägen 100 A   115 26  STOCKHOLM   \n",
       "\n",
       "         Address5       Telefon  \\\n",
       "0  Stockholms län  08/662 22 89   \n",
       "1  Stockholms län  08/662 50 16   \n",
       "2  Stockholms län  08/662 64 85   \n",
       "\n",
       "                                             ADDRESS  \\\n",
       "0  Karlaplan 13, 115 20, STOCKHOLM, Stockholms lä...   \n",
       "1  Nybrogatan 47, 114 39, STOCKHOLM, Stockholms l...   \n",
       "2  Karlavägen 100 A, 115 26, STOCKHOLM, Stockholm...   \n",
       "\n",
       "                                            location  \\\n",
       "0  (13, Karlaplan, Östermalm, Norra Innerstaden, ...   \n",
       "1  (47, Nybrogatan, Villastaden, Östermalm, Norra...   \n",
       "2  (Karlavägen, Östermalm, Norra Innerstaden, Sto...   \n",
       "\n",
       "                           point   latitude  longitude  altitude  \n",
       "0  (59.3388767, 18.0908655, 0.0)  59.338877  18.090865       0.0  \n",
       "1  (59.3372072, 18.0790982, 0.0)  59.337207  18.079098       0.0  \n",
       "2  (59.3354138, 18.1004767, 0.0)  59.335414  18.100477       0.0  "
      ]
     },
     "execution_count": 7,
     "metadata": {},
     "output_type": "execute_result"
    }
   ],
   "source": [
    "df[['latitude', 'longitude', 'altitude']] = pd.DataFrame(df['point'].tolist(), index=df.index)\n",
    "df.head(3)"
   ]
  },
  {
   "cell_type": "code",
   "execution_count": 8,
   "metadata": {},
   "outputs": [
    {
     "data": {
      "text/plain": [
       "Index(['Typ', 'Nr', 'Namn', 'Address1', 'Address3', 'Address4', 'Address5',\n",
       "       'Telefon', 'ADDRESS', 'location', 'point', 'latitude', 'longitude',\n",
       "       'altitude'],\n",
       "      dtype='object')"
      ]
     },
     "execution_count": 8,
     "metadata": {},
     "output_type": "execute_result"
    }
   ],
   "source": [
    "# Column names check\n",
    "df.columns"
   ]
  },
  {
   "cell_type": "code",
   "execution_count": 9,
   "metadata": {},
   "outputs": [
    {
     "data": {
      "text/html": [
       "<div>\n",
       "<style scoped>\n",
       "    .dataframe tbody tr th:only-of-type {\n",
       "        vertical-align: middle;\n",
       "    }\n",
       "\n",
       "    .dataframe tbody tr th {\n",
       "        vertical-align: top;\n",
       "    }\n",
       "\n",
       "    .dataframe thead th {\n",
       "        text-align: right;\n",
       "    }\n",
       "</style>\n",
       "<table border=\"1\" class=\"dataframe\">\n",
       "  <thead>\n",
       "    <tr style=\"text-align: right;\">\n",
       "      <th></th>\n",
       "      <th>Typ</th>\n",
       "      <th>Nr</th>\n",
       "      <th>Namn</th>\n",
       "      <th>latitude</th>\n",
       "      <th>longitude</th>\n",
       "      <th>altitude</th>\n",
       "    </tr>\n",
       "  </thead>\n",
       "  <tbody>\n",
       "    <tr>\n",
       "      <th>0</th>\n",
       "      <td>Butik</td>\n",
       "      <td>102</td>\n",
       "      <td>Fältöversten</td>\n",
       "      <td>59.338877</td>\n",
       "      <td>18.090865</td>\n",
       "      <td>0.0</td>\n",
       "    </tr>\n",
       "    <tr>\n",
       "      <th>1</th>\n",
       "      <td>Butik</td>\n",
       "      <td>104</td>\n",
       "      <td>NaN</td>\n",
       "      <td>59.337207</td>\n",
       "      <td>18.079098</td>\n",
       "      <td>0.0</td>\n",
       "    </tr>\n",
       "    <tr>\n",
       "      <th>2</th>\n",
       "      <td>Butik</td>\n",
       "      <td>106</td>\n",
       "      <td>Garnisonen</td>\n",
       "      <td>59.335414</td>\n",
       "      <td>18.100477</td>\n",
       "      <td>0.0</td>\n",
       "    </tr>\n",
       "  </tbody>\n",
       "</table>\n",
       "</div>"
      ],
      "text/plain": [
       "     Typ   Nr          Namn   latitude  longitude  altitude\n",
       "0  Butik  102  Fältöversten  59.338877  18.090865       0.0\n",
       "1  Butik  104           NaN  59.337207  18.079098       0.0\n",
       "2  Butik  106    Garnisonen  59.335414  18.100477       0.0"
      ]
     },
     "execution_count": 9,
     "metadata": {},
     "output_type": "execute_result"
    }
   ],
   "source": [
    "# Drop the unnecessary coloumns\n",
    "df = df.drop(['Address1', 'Address3', 'Address4', 'Address5','Telefon', 'ADDRESS', 'location', 'point'], axis=1)\n",
    "df.head(3)"
   ]
  },
  {
   "cell_type": "code",
   "execution_count": 11,
   "metadata": {},
   "outputs": [
    {
     "data": {
      "text/plain": [
       "4"
      ]
     },
     "execution_count": 11,
     "metadata": {},
     "output_type": "execute_result"
    }
   ],
   "source": [
    "# Check the number of missing values in the latitude column\n",
    "df.latitude.isnull().sum()"
   ]
  },
  {
   "cell_type": "code",
   "execution_count": 12,
   "metadata": {},
   "outputs": [
    {
     "data": {
      "text/plain": [
       "0"
      ]
     },
     "execution_count": 12,
     "metadata": {},
     "output_type": "execute_result"
    }
   ],
   "source": [
    "# Drop the missing values via the .notnull() method + recheck\n",
    "df = df[pd.notnull(df[\"latitude\"])]\n",
    "df.latitude.isnull().sum()"
   ]
  },
  {
   "cell_type": "code",
   "execution_count": 19,
   "metadata": {},
   "outputs": [
    {
     "data": {
      "text/html": [
       "<div style=\"width:100%;\"><div style=\"position:relative;width:100%;height:0;padding-bottom:60%;\"><span style=\"color:#565656\">Make this Notebook Trusted to load map: File -> Trust Notebook</span><iframe srcdoc=\"&lt;!DOCTYPE html&gt;\n",
       "&lt;html&gt;\n",
       "&lt;head&gt;\n",
       "    \n",
       "    &lt;meta http-equiv=&quot;content-type&quot; content=&quot;text/html; charset=UTF-8&quot; /&gt;\n",
       "    \n",
       "        &lt;script&gt;\n",
       "            L_NO_TOUCH = false;\n",
       "            L_DISABLE_3D = false;\n",
       "        &lt;/script&gt;\n",
       "    \n",
       "    &lt;style&gt;html, body {width: 100%;height: 100%;margin: 0;padding: 0;}&lt;/style&gt;\n",
       "    &lt;style&gt;#map {position:absolute;top:0;bottom:0;right:0;left:0;}&lt;/style&gt;\n",
       "    &lt;script src=&quot;https://cdn.jsdelivr.net/npm/leaflet@1.9.3/dist/leaflet.js&quot;&gt;&lt;/script&gt;\n",
       "    &lt;script src=&quot;https://code.jquery.com/jquery-3.7.1.min.js&quot;&gt;&lt;/script&gt;\n",
       "    &lt;script src=&quot;https://cdn.jsdelivr.net/npm/bootstrap@5.2.2/dist/js/bootstrap.bundle.min.js&quot;&gt;&lt;/script&gt;\n",
       "    &lt;script src=&quot;https://cdnjs.cloudflare.com/ajax/libs/Leaflet.awesome-markers/2.0.2/leaflet.awesome-markers.js&quot;&gt;&lt;/script&gt;\n",
       "    &lt;link rel=&quot;stylesheet&quot; href=&quot;https://cdn.jsdelivr.net/npm/leaflet@1.9.3/dist/leaflet.css&quot;/&gt;\n",
       "    &lt;link rel=&quot;stylesheet&quot; href=&quot;https://cdn.jsdelivr.net/npm/bootstrap@5.2.2/dist/css/bootstrap.min.css&quot;/&gt;\n",
       "    &lt;link rel=&quot;stylesheet&quot; href=&quot;https://netdna.bootstrapcdn.com/bootstrap/3.0.0/css/bootstrap.min.css&quot;/&gt;\n",
       "    &lt;link rel=&quot;stylesheet&quot; href=&quot;https://cdn.jsdelivr.net/npm/@fortawesome/fontawesome-free@6.2.0/css/all.min.css&quot;/&gt;\n",
       "    &lt;link rel=&quot;stylesheet&quot; href=&quot;https://cdnjs.cloudflare.com/ajax/libs/Leaflet.awesome-markers/2.0.2/leaflet.awesome-markers.css&quot;/&gt;\n",
       "    &lt;link rel=&quot;stylesheet&quot; href=&quot;https://cdn.jsdelivr.net/gh/python-visualization/folium/folium/templates/leaflet.awesome.rotate.min.css&quot;/&gt;\n",
       "    \n",
       "            &lt;meta name=&quot;viewport&quot; content=&quot;width=device-width,\n",
       "                initial-scale=1.0, maximum-scale=1.0, user-scalable=no&quot; /&gt;\n",
       "            &lt;style&gt;\n",
       "                #map_8a6d5f65912b440f4ebd00e1eb314f0f {\n",
       "                    position: relative;\n",
       "                    width: 100.0%;\n",
       "                    height: 100.0%;\n",
       "                    left: 0.0%;\n",
       "                    top: 0.0%;\n",
       "                }\n",
       "                .leaflet-container { font-size: 1rem; }\n",
       "            &lt;/style&gt;\n",
       "        \n",
       "&lt;/head&gt;\n",
       "&lt;body&gt;\n",
       "    \n",
       "    \n",
       "            &lt;div class=&quot;folium-map&quot; id=&quot;map_8a6d5f65912b440f4ebd00e1eb314f0f&quot; &gt;&lt;/div&gt;\n",
       "        \n",
       "&lt;/body&gt;\n",
       "&lt;script&gt;\n",
       "    \n",
       "    \n",
       "            var map_8a6d5f65912b440f4ebd00e1eb314f0f = L.map(\n",
       "                &quot;map_8a6d5f65912b440f4ebd00e1eb314f0f&quot;,\n",
       "                {\n",
       "                    center: [59.33, 18.05],\n",
       "                    crs: L.CRS.EPSG3857,\n",
       "                    zoom: 12.5,\n",
       "                    zoomControl: true,\n",
       "                    preferCanvas: false,\n",
       "                }\n",
       "            );\n",
       "\n",
       "            \n",
       "\n",
       "        \n",
       "    \n",
       "            var tile_layer_74cd34a556b71cc9acab3dc39e5932b8 = L.tileLayer(\n",
       "                &quot;https://cartodb-basemaps-{s}.global.ssl.fastly.net/light_all/{z}/{x}/{y}.png&quot;,\n",
       "                {&quot;attribution&quot;: &quot;\\u0026copy; \\u003ca target=\\&quot;_blank\\&quot; href=\\&quot;http://www.openstreetmap.org/copyright\\&quot;\\u003eOpenStreetMap\\u003c/a\\u003e contributors \\u0026copy; \\u003ca target=\\&quot;_blank\\&quot; href=\\&quot;http://cartodb.com/attributions\\&quot;\\u003eCartoDB\\u003c/a\\u003e, CartoDB \\u003ca target=\\&quot;_blank\\&quot; href =\\&quot;http://cartodb.com/attributions\\&quot;\\u003eattributions\\u003c/a\\u003e&quot;, &quot;detectRetina&quot;: false, &quot;maxNativeZoom&quot;: 18, &quot;maxZoom&quot;: 18, &quot;minZoom&quot;: 0, &quot;noWrap&quot;: false, &quot;opacity&quot;: 1, &quot;subdomains&quot;: &quot;abc&quot;, &quot;tms&quot;: false}\n",
       "            );\n",
       "        \n",
       "    \n",
       "                tile_layer_74cd34a556b71cc9acab3dc39e5932b8.addTo(map_8a6d5f65912b440f4ebd00e1eb314f0f);\n",
       "    \n",
       "            var circle_marker_3b14f09f5171d1d2e4f88886d87232e4 = L.circleMarker(\n",
       "                [59.3388767, 18.0908655],\n",
       "                {&quot;bubblingMouseEvents&quot;: true, &quot;color&quot;: &quot;#3388ff&quot;, &quot;dashArray&quot;: null, &quot;dashOffset&quot;: null, &quot;fill&quot;: false, &quot;fillColor&quot;: &quot;#3388ff&quot;, &quot;fillOpacity&quot;: 0.2, &quot;fillRule&quot;: &quot;evenodd&quot;, &quot;lineCap&quot;: &quot;round&quot;, &quot;lineJoin&quot;: &quot;round&quot;, &quot;opacity&quot;: 1.0, &quot;radius&quot;: 10, &quot;stroke&quot;: true, &quot;weight&quot;: 3}\n",
       "            ).addTo(map_8a6d5f65912b440f4ebd00e1eb314f0f);\n",
       "        \n",
       "    \n",
       "            var circle_marker_70ffc5ae33f3d12b99638600ca10f254 = L.circleMarker(\n",
       "                [59.3372072, 18.0790982],\n",
       "                {&quot;bubblingMouseEvents&quot;: true, &quot;color&quot;: &quot;#3388ff&quot;, &quot;dashArray&quot;: null, &quot;dashOffset&quot;: null, &quot;fill&quot;: false, &quot;fillColor&quot;: &quot;#3388ff&quot;, &quot;fillOpacity&quot;: 0.2, &quot;fillRule&quot;: &quot;evenodd&quot;, &quot;lineCap&quot;: &quot;round&quot;, &quot;lineJoin&quot;: &quot;round&quot;, &quot;opacity&quot;: 1.0, &quot;radius&quot;: 10, &quot;stroke&quot;: true, &quot;weight&quot;: 3}\n",
       "            ).addTo(map_8a6d5f65912b440f4ebd00e1eb314f0f);\n",
       "        \n",
       "    \n",
       "            var circle_marker_de1ad392bdd696ff698e64f37b8ee5f4 = L.circleMarker(\n",
       "                [59.3354138, 18.1004767],\n",
       "                {&quot;bubblingMouseEvents&quot;: true, &quot;color&quot;: &quot;#3388ff&quot;, &quot;dashArray&quot;: null, &quot;dashOffset&quot;: null, &quot;fill&quot;: false, &quot;fillColor&quot;: &quot;#3388ff&quot;, &quot;fillOpacity&quot;: 0.2, &quot;fillRule&quot;: &quot;evenodd&quot;, &quot;lineCap&quot;: &quot;round&quot;, &quot;lineJoin&quot;: &quot;round&quot;, &quot;opacity&quot;: 1.0, &quot;radius&quot;: 10, &quot;stroke&quot;: true, &quot;weight&quot;: 3}\n",
       "            ).addTo(map_8a6d5f65912b440f4ebd00e1eb314f0f);\n",
       "        \n",
       "    \n",
       "            var circle_marker_0d03e23dcb3e646ffd770d833e5b3108 = L.circleMarker(\n",
       "                [59.3343273, 18.0626039],\n",
       "                {&quot;bubblingMouseEvents&quot;: true, &quot;color&quot;: &quot;#3388ff&quot;, &quot;dashArray&quot;: null, &quot;dashOffset&quot;: null, &quot;fill&quot;: false, &quot;fillColor&quot;: &quot;#3388ff&quot;, &quot;fillOpacity&quot;: 0.2, &quot;fillRule&quot;: &quot;evenodd&quot;, &quot;lineCap&quot;: &quot;round&quot;, &quot;lineJoin&quot;: &quot;round&quot;, &quot;opacity&quot;: 1.0, &quot;radius&quot;: 10, &quot;stroke&quot;: true, &quot;weight&quot;: 3}\n",
       "            ).addTo(map_8a6d5f65912b440f4ebd00e1eb314f0f);\n",
       "        \n",
       "    \n",
       "            var circle_marker_9c4feb1ef5d061e2e637aa21dc29b430 = L.circleMarker(\n",
       "                [59.3336131, 18.0616743],\n",
       "                {&quot;bubblingMouseEvents&quot;: true, &quot;color&quot;: &quot;#3388ff&quot;, &quot;dashArray&quot;: null, &quot;dashOffset&quot;: null, &quot;fill&quot;: false, &quot;fillColor&quot;: &quot;#3388ff&quot;, &quot;fillOpacity&quot;: 0.2, &quot;fillRule&quot;: &quot;evenodd&quot;, &quot;lineCap&quot;: &quot;round&quot;, &quot;lineJoin&quot;: &quot;round&quot;, &quot;opacity&quot;: 1.0, &quot;radius&quot;: 10, &quot;stroke&quot;: true, &quot;weight&quot;: 3}\n",
       "            ).addTo(map_8a6d5f65912b440f4ebd00e1eb314f0f);\n",
       "        \n",
       "    \n",
       "            var circle_marker_cdfa63349449bc934af77083f3fc664a = L.circleMarker(\n",
       "                [59.3331769, 18.0712808],\n",
       "                {&quot;bubblingMouseEvents&quot;: true, &quot;color&quot;: &quot;#3388ff&quot;, &quot;dashArray&quot;: null, &quot;dashOffset&quot;: null, &quot;fill&quot;: false, &quot;fillColor&quot;: &quot;#3388ff&quot;, &quot;fillOpacity&quot;: 0.2, &quot;fillRule&quot;: &quot;evenodd&quot;, &quot;lineCap&quot;: &quot;round&quot;, &quot;lineJoin&quot;: &quot;round&quot;, &quot;opacity&quot;: 1.0, &quot;radius&quot;: 10, &quot;stroke&quot;: true, &quot;weight&quot;: 3}\n",
       "            ).addTo(map_8a6d5f65912b440f4ebd00e1eb314f0f);\n",
       "        \n",
       "    \n",
       "            var circle_marker_ad470c1f7200b5414aab35a6de3bb871 = L.circleMarker(\n",
       "                [59.3304666, 18.064907],\n",
       "                {&quot;bubblingMouseEvents&quot;: true, &quot;color&quot;: &quot;#3388ff&quot;, &quot;dashArray&quot;: null, &quot;dashOffset&quot;: null, &quot;fill&quot;: false, &quot;fillColor&quot;: &quot;#3388ff&quot;, &quot;fillOpacity&quot;: 0.2, &quot;fillRule&quot;: &quot;evenodd&quot;, &quot;lineCap&quot;: &quot;round&quot;, &quot;lineJoin&quot;: &quot;round&quot;, &quot;opacity&quot;: 1.0, &quot;radius&quot;: 10, &quot;stroke&quot;: true, &quot;weight&quot;: 3}\n",
       "            ).addTo(map_8a6d5f65912b440f4ebd00e1eb314f0f);\n",
       "        \n",
       "    \n",
       "            var circle_marker_bbbaa127ce143d09888dcbae404c8464 = L.circleMarker(\n",
       "                [59.3279896, 18.0174112],\n",
       "                {&quot;bubblingMouseEvents&quot;: true, &quot;color&quot;: &quot;#3388ff&quot;, &quot;dashArray&quot;: null, &quot;dashOffset&quot;: null, &quot;fill&quot;: false, &quot;fillColor&quot;: &quot;#3388ff&quot;, &quot;fillOpacity&quot;: 0.2, &quot;fillRule&quot;: &quot;evenodd&quot;, &quot;lineCap&quot;: &quot;round&quot;, &quot;lineJoin&quot;: &quot;round&quot;, &quot;opacity&quot;: 1.0, &quot;radius&quot;: 10, &quot;stroke&quot;: true, &quot;weight&quot;: 3}\n",
       "            ).addTo(map_8a6d5f65912b440f4ebd00e1eb314f0f);\n",
       "        \n",
       "    \n",
       "            var circle_marker_7cf234c9ed0ea22f854a5066c59dfc89 = L.circleMarker(\n",
       "                [59.3287609, 18.0432958],\n",
       "                {&quot;bubblingMouseEvents&quot;: true, &quot;color&quot;: &quot;#3388ff&quot;, &quot;dashArray&quot;: null, &quot;dashOffset&quot;: null, &quot;fill&quot;: false, &quot;fillColor&quot;: &quot;#3388ff&quot;, &quot;fillOpacity&quot;: 0.2, &quot;fillRule&quot;: &quot;evenodd&quot;, &quot;lineCap&quot;: &quot;round&quot;, &quot;lineJoin&quot;: &quot;round&quot;, &quot;opacity&quot;: 1.0, &quot;radius&quot;: 10, &quot;stroke&quot;: true, &quot;weight&quot;: 3}\n",
       "            ).addTo(map_8a6d5f65912b440f4ebd00e1eb314f0f);\n",
       "        \n",
       "    \n",
       "            var circle_marker_6950cf06c89db4b27df28e9dbb5b7bad = L.circleMarker(\n",
       "                [59.3372813, 18.0093244],\n",
       "                {&quot;bubblingMouseEvents&quot;: true, &quot;color&quot;: &quot;#3388ff&quot;, &quot;dashArray&quot;: null, &quot;dashOffset&quot;: null, &quot;fill&quot;: false, &quot;fillColor&quot;: &quot;#3388ff&quot;, &quot;fillOpacity&quot;: 0.2, &quot;fillRule&quot;: &quot;evenodd&quot;, &quot;lineCap&quot;: &quot;round&quot;, &quot;lineJoin&quot;: &quot;round&quot;, &quot;opacity&quot;: 1.0, &quot;radius&quot;: 10, &quot;stroke&quot;: true, &quot;weight&quot;: 3}\n",
       "            ).addTo(map_8a6d5f65912b440f4ebd00e1eb314f0f);\n",
       "        \n",
       "    \n",
       "            var circle_marker_e450f18e5912525dea8c5b152061e09c = L.circleMarker(\n",
       "                [59.334893, 18.0301203],\n",
       "                {&quot;bubblingMouseEvents&quot;: true, &quot;color&quot;: &quot;#3388ff&quot;, &quot;dashArray&quot;: null, &quot;dashOffset&quot;: null, &quot;fill&quot;: false, &quot;fillColor&quot;: &quot;#3388ff&quot;, &quot;fillOpacity&quot;: 0.2, &quot;fillRule&quot;: &quot;evenodd&quot;, &quot;lineCap&quot;: &quot;round&quot;, &quot;lineJoin&quot;: &quot;round&quot;, &quot;opacity&quot;: 1.0, &quot;radius&quot;: 10, &quot;stroke&quot;: true, &quot;weight&quot;: 3}\n",
       "            ).addTo(map_8a6d5f65912b440f4ebd00e1eb314f0f);\n",
       "        \n",
       "    \n",
       "            var circle_marker_34b001a73d91a0c2ba731b1f8fb29c24 = L.circleMarker(\n",
       "                [59.3407795, 18.0418877],\n",
       "                {&quot;bubblingMouseEvents&quot;: true, &quot;color&quot;: &quot;#3388ff&quot;, &quot;dashArray&quot;: null, &quot;dashOffset&quot;: null, &quot;fill&quot;: false, &quot;fillColor&quot;: &quot;#3388ff&quot;, &quot;fillOpacity&quot;: 0.2, &quot;fillRule&quot;: &quot;evenodd&quot;, &quot;lineCap&quot;: &quot;round&quot;, &quot;lineJoin&quot;: &quot;round&quot;, &quot;opacity&quot;: 1.0, &quot;radius&quot;: 10, &quot;stroke&quot;: true, &quot;weight&quot;: 3}\n",
       "            ).addTo(map_8a6d5f65912b440f4ebd00e1eb314f0f);\n",
       "        \n",
       "    \n",
       "            var circle_marker_50e95926820aef117eca04053968a648 = L.circleMarker(\n",
       "                [59.3464104, 18.0332565],\n",
       "                {&quot;bubblingMouseEvents&quot;: true, &quot;color&quot;: &quot;#3388ff&quot;, &quot;dashArray&quot;: null, &quot;dashOffset&quot;: null, &quot;fill&quot;: false, &quot;fillColor&quot;: &quot;#3388ff&quot;, &quot;fillOpacity&quot;: 0.2, &quot;fillRule&quot;: &quot;evenodd&quot;, &quot;lineCap&quot;: &quot;round&quot;, &quot;lineJoin&quot;: &quot;round&quot;, &quot;opacity&quot;: 1.0, &quot;radius&quot;: 10, &quot;stroke&quot;: true, &quot;weight&quot;: 3}\n",
       "            ).addTo(map_8a6d5f65912b440f4ebd00e1eb314f0f);\n",
       "        \n",
       "    \n",
       "            var circle_marker_28eeeed9339f62fd9641cfff7dc79906 = L.circleMarker(\n",
       "                [59.3434945, 18.0528016],\n",
       "                {&quot;bubblingMouseEvents&quot;: true, &quot;color&quot;: &quot;#3388ff&quot;, &quot;dashArray&quot;: null, &quot;dashOffset&quot;: null, &quot;fill&quot;: false, &quot;fillColor&quot;: &quot;#3388ff&quot;, &quot;fillOpacity&quot;: 0.2, &quot;fillRule&quot;: &quot;evenodd&quot;, &quot;lineCap&quot;: &quot;round&quot;, &quot;lineJoin&quot;: &quot;round&quot;, &quot;opacity&quot;: 1.0, &quot;radius&quot;: 10, &quot;stroke&quot;: true, &quot;weight&quot;: 3}\n",
       "            ).addTo(map_8a6d5f65912b440f4ebd00e1eb314f0f);\n",
       "        \n",
       "    \n",
       "            var circle_marker_a25db6fb4aec113fadfae95ebb62ca00 = L.circleMarker(\n",
       "                [59.3447648, 18.0634753],\n",
       "                {&quot;bubblingMouseEvents&quot;: true, &quot;color&quot;: &quot;#3388ff&quot;, &quot;dashArray&quot;: null, &quot;dashOffset&quot;: null, &quot;fill&quot;: false, &quot;fillColor&quot;: &quot;#3388ff&quot;, &quot;fillOpacity&quot;: 0.2, &quot;fillRule&quot;: &quot;evenodd&quot;, &quot;lineCap&quot;: &quot;round&quot;, &quot;lineJoin&quot;: &quot;round&quot;, &quot;opacity&quot;: 1.0, &quot;radius&quot;: 10, &quot;stroke&quot;: true, &quot;weight&quot;: 3}\n",
       "            ).addTo(map_8a6d5f65912b440f4ebd00e1eb314f0f);\n",
       "        \n",
       "    \n",
       "            var circle_marker_ef99d2e606c47bc6fd2f78816e4c1be4 = L.circleMarker(\n",
       "                [59.3391066, 18.0604678],\n",
       "                {&quot;bubblingMouseEvents&quot;: true, &quot;color&quot;: &quot;#3388ff&quot;, &quot;dashArray&quot;: null, &quot;dashOffset&quot;: null, &quot;fill&quot;: false, &quot;fillColor&quot;: &quot;#3388ff&quot;, &quot;fillOpacity&quot;: 0.2, &quot;fillRule&quot;: &quot;evenodd&quot;, &quot;lineCap&quot;: &quot;round&quot;, &quot;lineJoin&quot;: &quot;round&quot;, &quot;opacity&quot;: 1.0, &quot;radius&quot;: 10, &quot;stroke&quot;: true, &quot;weight&quot;: 3}\n",
       "            ).addTo(map_8a6d5f65912b440f4ebd00e1eb314f0f);\n",
       "        \n",
       "    \n",
       "            var circle_marker_86ecf4d926119dd69407f8d7fdaba1a5 = L.circleMarker(\n",
       "                [59.3344747, 18.0556465],\n",
       "                {&quot;bubblingMouseEvents&quot;: true, &quot;color&quot;: &quot;#3388ff&quot;, &quot;dashArray&quot;: null, &quot;dashOffset&quot;: null, &quot;fill&quot;: false, &quot;fillColor&quot;: &quot;#3388ff&quot;, &quot;fillOpacity&quot;: 0.2, &quot;fillRule&quot;: &quot;evenodd&quot;, &quot;lineCap&quot;: &quot;round&quot;, &quot;lineJoin&quot;: &quot;round&quot;, &quot;opacity&quot;: 1.0, &quot;radius&quot;: 10, &quot;stroke&quot;: true, &quot;weight&quot;: 3}\n",
       "            ).addTo(map_8a6d5f65912b440f4ebd00e1eb314f0f);\n",
       "        \n",
       "    \n",
       "            var circle_marker_6c9e88237489e3078aec7edd219b8486 = L.circleMarker(\n",
       "                [59.3144846, 18.0712026],\n",
       "                {&quot;bubblingMouseEvents&quot;: true, &quot;color&quot;: &quot;#3388ff&quot;, &quot;dashArray&quot;: null, &quot;dashOffset&quot;: null, &quot;fill&quot;: false, &quot;fillColor&quot;: &quot;#3388ff&quot;, &quot;fillOpacity&quot;: 0.2, &quot;fillRule&quot;: &quot;evenodd&quot;, &quot;lineCap&quot;: &quot;round&quot;, &quot;lineJoin&quot;: &quot;round&quot;, &quot;opacity&quot;: 1.0, &quot;radius&quot;: 10, &quot;stroke&quot;: true, &quot;weight&quot;: 3}\n",
       "            ).addTo(map_8a6d5f65912b440f4ebd00e1eb314f0f);\n",
       "        \n",
       "    \n",
       "            var circle_marker_4efe609e804a50a143f423c92f754170 = L.circleMarker(\n",
       "                [59.3156375, 18.0843507],\n",
       "                {&quot;bubblingMouseEvents&quot;: true, &quot;color&quot;: &quot;#3388ff&quot;, &quot;dashArray&quot;: null, &quot;dashOffset&quot;: null, &quot;fill&quot;: false, &quot;fillColor&quot;: &quot;#3388ff&quot;, &quot;fillOpacity&quot;: 0.2, &quot;fillRule&quot;: &quot;evenodd&quot;, &quot;lineCap&quot;: &quot;round&quot;, &quot;lineJoin&quot;: &quot;round&quot;, &quot;opacity&quot;: 1.0, &quot;radius&quot;: 10, &quot;stroke&quot;: true, &quot;weight&quot;: 3}\n",
       "            ).addTo(map_8a6d5f65912b440f4ebd00e1eb314f0f);\n",
       "        \n",
       "    \n",
       "            var circle_marker_a37af032f06e7d79e6c4cc8b0a4bd614 = L.circleMarker(\n",
       "                [59.3168124, 18.0559158],\n",
       "                {&quot;bubblingMouseEvents&quot;: true, &quot;color&quot;: &quot;#3388ff&quot;, &quot;dashArray&quot;: null, &quot;dashOffset&quot;: null, &quot;fill&quot;: false, &quot;fillColor&quot;: &quot;#3388ff&quot;, &quot;fillOpacity&quot;: 0.2, &quot;fillRule&quot;: &quot;evenodd&quot;, &quot;lineCap&quot;: &quot;round&quot;, &quot;lineJoin&quot;: &quot;round&quot;, &quot;opacity&quot;: 1.0, &quot;radius&quot;: 10, &quot;stroke&quot;: true, &quot;weight&quot;: 3}\n",
       "            ).addTo(map_8a6d5f65912b440f4ebd00e1eb314f0f);\n",
       "        \n",
       "    \n",
       "            var circle_marker_554bcef97723dcfda4007f798c8d25f5 = L.circleMarker(\n",
       "                [59.3023089, 18.1034195],\n",
       "                {&quot;bubblingMouseEvents&quot;: true, &quot;color&quot;: &quot;#3388ff&quot;, &quot;dashArray&quot;: null, &quot;dashOffset&quot;: null, &quot;fill&quot;: false, &quot;fillColor&quot;: &quot;#3388ff&quot;, &quot;fillOpacity&quot;: 0.2, &quot;fillRule&quot;: &quot;evenodd&quot;, &quot;lineCap&quot;: &quot;round&quot;, &quot;lineJoin&quot;: &quot;round&quot;, &quot;opacity&quot;: 1.0, &quot;radius&quot;: 10, &quot;stroke&quot;: true, &quot;weight&quot;: 3}\n",
       "            ).addTo(map_8a6d5f65912b440f4ebd00e1eb314f0f);\n",
       "        \n",
       "&lt;/script&gt;\n",
       "&lt;/html&gt;\" style=\"position:absolute;width:100%;height:100%;left:0;top:0;border:none !important;\" allowfullscreen webkitallowfullscreen mozallowfullscreen></iframe></div></div>"
      ],
      "text/plain": [
       "<folium.folium.Map at 0x23dced631d0>"
      ]
     },
     "execution_count": 19,
     "metadata": {},
     "output_type": "execute_result"
    }
   ],
   "source": [
    "# Create Folium map + Apply the data points (latitude and longtitude) onto the map with circle markers\n",
    "m1 = folium.Map(location=[59.33,18.05], tiles='cartodbpositron', zoom_start=12.5)\n",
    "df.apply(lambda row:folium.CircleMarker(location=[row[\"latitude\"], row[\"longitude\"]]).add_to(m1), axis=1)\n",
    "m1"
   ]
  },
  {
   "cell_type": "code",
   "execution_count": null,
   "metadata": {},
   "outputs": [],
   "source": [
    "# Save and export if required\n",
    "# m1.save(\"sweden_addresses1.html\")"
   ]
  },
  {
   "cell_type": "code",
   "execution_count": 20,
   "metadata": {},
   "outputs": [
    {
     "data": {
      "text/html": [
       "<div style=\"width:100%;\"><div style=\"position:relative;width:100%;height:0;padding-bottom:60%;\"><span style=\"color:#565656\">Make this Notebook Trusted to load map: File -> Trust Notebook</span><iframe srcdoc=\"&lt;!DOCTYPE html&gt;\n",
       "&lt;html&gt;\n",
       "&lt;head&gt;\n",
       "    \n",
       "    &lt;meta http-equiv=&quot;content-type&quot; content=&quot;text/html; charset=UTF-8&quot; /&gt;\n",
       "    \n",
       "        &lt;script&gt;\n",
       "            L_NO_TOUCH = false;\n",
       "            L_DISABLE_3D = false;\n",
       "        &lt;/script&gt;\n",
       "    \n",
       "    &lt;style&gt;html, body {width: 100%;height: 100%;margin: 0;padding: 0;}&lt;/style&gt;\n",
       "    &lt;style&gt;#map {position:absolute;top:0;bottom:0;right:0;left:0;}&lt;/style&gt;\n",
       "    &lt;script src=&quot;https://cdn.jsdelivr.net/npm/leaflet@1.9.3/dist/leaflet.js&quot;&gt;&lt;/script&gt;\n",
       "    &lt;script src=&quot;https://code.jquery.com/jquery-3.7.1.min.js&quot;&gt;&lt;/script&gt;\n",
       "    &lt;script src=&quot;https://cdn.jsdelivr.net/npm/bootstrap@5.2.2/dist/js/bootstrap.bundle.min.js&quot;&gt;&lt;/script&gt;\n",
       "    &lt;script src=&quot;https://cdnjs.cloudflare.com/ajax/libs/Leaflet.awesome-markers/2.0.2/leaflet.awesome-markers.js&quot;&gt;&lt;/script&gt;\n",
       "    &lt;link rel=&quot;stylesheet&quot; href=&quot;https://cdn.jsdelivr.net/npm/leaflet@1.9.3/dist/leaflet.css&quot;/&gt;\n",
       "    &lt;link rel=&quot;stylesheet&quot; href=&quot;https://cdn.jsdelivr.net/npm/bootstrap@5.2.2/dist/css/bootstrap.min.css&quot;/&gt;\n",
       "    &lt;link rel=&quot;stylesheet&quot; href=&quot;https://netdna.bootstrapcdn.com/bootstrap/3.0.0/css/bootstrap.min.css&quot;/&gt;\n",
       "    &lt;link rel=&quot;stylesheet&quot; href=&quot;https://cdn.jsdelivr.net/npm/@fortawesome/fontawesome-free@6.2.0/css/all.min.css&quot;/&gt;\n",
       "    &lt;link rel=&quot;stylesheet&quot; href=&quot;https://cdnjs.cloudflare.com/ajax/libs/Leaflet.awesome-markers/2.0.2/leaflet.awesome-markers.css&quot;/&gt;\n",
       "    &lt;link rel=&quot;stylesheet&quot; href=&quot;https://cdn.jsdelivr.net/gh/python-visualization/folium/folium/templates/leaflet.awesome.rotate.min.css&quot;/&gt;\n",
       "    \n",
       "            &lt;meta name=&quot;viewport&quot; content=&quot;width=device-width,\n",
       "                initial-scale=1.0, maximum-scale=1.0, user-scalable=no&quot; /&gt;\n",
       "            &lt;style&gt;\n",
       "                #map_c0598331a0d1f9a1c05cf9f0a5ab1d5f {\n",
       "                    position: relative;\n",
       "                    width: 100.0%;\n",
       "                    height: 100.0%;\n",
       "                    left: 0.0%;\n",
       "                    top: 0.0%;\n",
       "                }\n",
       "                .leaflet-container { font-size: 1rem; }\n",
       "            &lt;/style&gt;\n",
       "        \n",
       "    &lt;script src=&quot;https://cdnjs.cloudflare.com/ajax/libs/leaflet.markercluster/1.1.0/leaflet.markercluster.js&quot;&gt;&lt;/script&gt;\n",
       "    &lt;link rel=&quot;stylesheet&quot; href=&quot;https://cdnjs.cloudflare.com/ajax/libs/leaflet.markercluster/1.1.0/MarkerCluster.css&quot;/&gt;\n",
       "    &lt;link rel=&quot;stylesheet&quot; href=&quot;https://cdnjs.cloudflare.com/ajax/libs/leaflet.markercluster/1.1.0/MarkerCluster.Default.css&quot;/&gt;\n",
       "&lt;/head&gt;\n",
       "&lt;body&gt;\n",
       "    \n",
       "    \n",
       "            &lt;div class=&quot;folium-map&quot; id=&quot;map_c0598331a0d1f9a1c05cf9f0a5ab1d5f&quot; &gt;&lt;/div&gt;\n",
       "        \n",
       "&lt;/body&gt;\n",
       "&lt;script&gt;\n",
       "    \n",
       "    \n",
       "            var map_c0598331a0d1f9a1c05cf9f0a5ab1d5f = L.map(\n",
       "                &quot;map_c0598331a0d1f9a1c05cf9f0a5ab1d5f&quot;,\n",
       "                {\n",
       "                    center: [59.33, 18.05],\n",
       "                    crs: L.CRS.EPSG3857,\n",
       "                    zoom: 12,\n",
       "                    zoomControl: true,\n",
       "                    preferCanvas: false,\n",
       "                }\n",
       "            );\n",
       "\n",
       "            \n",
       "\n",
       "        \n",
       "    \n",
       "            var tile_layer_ba3d2bad90e11a5b95fae9349bdd6876 = L.tileLayer(\n",
       "                &quot;https://cartodb-basemaps-{s}.global.ssl.fastly.net/dark_all/{z}/{x}/{y}.png&quot;,\n",
       "                {&quot;attribution&quot;: &quot;\\u0026copy; \\u003ca target=\\&quot;_blank\\&quot; href=\\&quot;http://www.openstreetmap.org/copyright\\&quot;\\u003eOpenStreetMap\\u003c/a\\u003e contributors \\u0026copy; \\u003ca target=\\&quot;_blank\\&quot; href=\\&quot;http://cartodb.com/attributions\\&quot;\\u003eCartoDB\\u003c/a\\u003e, CartoDB \\u003ca target=\\&quot;_blank\\&quot; href =\\&quot;http://cartodb.com/attributions\\&quot;\\u003eattributions\\u003c/a\\u003e&quot;, &quot;detectRetina&quot;: false, &quot;maxNativeZoom&quot;: 18, &quot;maxZoom&quot;: 18, &quot;minZoom&quot;: 0, &quot;noWrap&quot;: false, &quot;opacity&quot;: 1, &quot;subdomains&quot;: &quot;abc&quot;, &quot;tms&quot;: false}\n",
       "            );\n",
       "        \n",
       "    \n",
       "                tile_layer_ba3d2bad90e11a5b95fae9349bdd6876.addTo(map_c0598331a0d1f9a1c05cf9f0a5ab1d5f);\n",
       "    \n",
       "            var fast_marker_cluster_afd2d721f4f2d027eb1a4d5cd592351e = (function(){\n",
       "                \n",
       "                var callback = function (row) {\n",
       "                    var icon = L.AwesomeMarkers.icon();\n",
       "                    var marker = L.marker(new L.LatLng(row[0], row[1]));\n",
       "                    marker.setIcon(icon);\n",
       "                    return marker;\n",
       "                };\n",
       "\n",
       "                var data = [[59.3388767, 18.0908655], [59.3372072, 18.0790982], [59.3354138, 18.1004767], [59.3343273, 18.0626039], [59.3336131, 18.0616743], [59.3331769, 18.0712808], [59.3304666, 18.064907], [59.3279896, 18.0174112], [59.3287609, 18.0432958], [59.3372813, 18.0093244], [59.334893, 18.0301203], [59.3407795, 18.0418877], [59.3464104, 18.0332565], [59.3434945, 18.0528016], [59.3447648, 18.0634753], [59.3391066, 18.0604678], [59.3344747, 18.0556465], [59.3144846, 18.0712026], [59.3156375, 18.0843507], [59.3168124, 18.0559158], [59.3023089, 18.1034195]];\n",
       "                var cluster = L.markerClusterGroup({});\n",
       "\n",
       "                for (var i = 0; i &lt; data.length; i++) {\n",
       "                    var row = data[i];\n",
       "                    var marker = callback(row);\n",
       "                    marker.addTo(cluster);\n",
       "                }\n",
       "\n",
       "                cluster.addTo(map_c0598331a0d1f9a1c05cf9f0a5ab1d5f);\n",
       "                return cluster;\n",
       "            })();\n",
       "        \n",
       "    \n",
       "                fast_marker_cluster_afd2d721f4f2d027eb1a4d5cd592351e.addTo(map_c0598331a0d1f9a1c05cf9f0a5ab1d5f);\n",
       "    \n",
       "            var layer_control_7c56f0cd9dc1575e18eb2b5886a103f0_layers = {\n",
       "                base_layers : {\n",
       "                    &quot;cartodbdark_matter&quot; : tile_layer_ba3d2bad90e11a5b95fae9349bdd6876,\n",
       "                },\n",
       "                overlays :  {\n",
       "                    &quot;macro_element_afd2d721f4f2d027eb1a4d5cd592351e&quot; : fast_marker_cluster_afd2d721f4f2d027eb1a4d5cd592351e,\n",
       "                },\n",
       "            };\n",
       "            let layer_control_7c56f0cd9dc1575e18eb2b5886a103f0 = L.control.layers(\n",
       "                layer_control_7c56f0cd9dc1575e18eb2b5886a103f0_layers.base_layers,\n",
       "                layer_control_7c56f0cd9dc1575e18eb2b5886a103f0_layers.overlays,\n",
       "                {&quot;autoZIndex&quot;: true, &quot;collapsed&quot;: true, &quot;position&quot;: &quot;topright&quot;}\n",
       "            ).addTo(map_c0598331a0d1f9a1c05cf9f0a5ab1d5f);\n",
       "\n",
       "        \n",
       "&lt;/script&gt;\n",
       "&lt;/html&gt;\" style=\"position:absolute;width:100%;height:100%;left:0;top:0;border:none !important;\" allowfullscreen webkitallowfullscreen mozallowfullscreen></iframe></div></div>"
      ],
      "text/plain": [
       "<folium.folium.Map at 0x23dced5bcb0>"
      ]
     },
     "execution_count": 20,
     "metadata": {},
     "output_type": "execute_result"
    }
   ],
   "source": [
    "# Create Folium map + Apply the data points (latitude and longtitude) onto the map as cluster placement\n",
    "m2 = folium.Map(location=[59.33,18.05], zoom_start=12, tiles='CartoDB dark_matter')\n",
    "FastMarkerCluster(data=list(zip(df['latitude'].values, df['longitude'].values))).add_to(m2)\n",
    "folium.LayerControl().add_to(m2)\n",
    "m2"
   ]
  },
  {
   "cell_type": "code",
   "execution_count": null,
   "metadata": {},
   "outputs": [],
   "source": [
    "# Save and export if required\n",
    "# m2.save(\"sweden_addresses2.html\")"
   ]
  },
  {
   "cell_type": "markdown",
   "metadata": {},
   "source": [
    "___\n",
    "## 20. Reverse Geocoding\n",
    "* Reverse geocoding is the process of converting geographical coordinates to a human-readable address or place name."
   ]
  },
  {
   "cell_type": "code",
   "execution_count": 22,
   "metadata": {},
   "outputs": [],
   "source": [
    "# Futher import of libraries\n",
    "import plotly_express as px\n",
    "import tqdm\n",
    "from tqdm import tqdm\n",
    "from tqdm.notebook import tqdm_notebook"
   ]
  },
  {
   "cell_type": "markdown",
   "metadata": {},
   "source": [
    "### Single Set of Coordinates Reverse Geocoding"
   ]
  },
  {
   "cell_type": "code",
   "execution_count": 24,
   "metadata": {},
   "outputs": [
    {
     "data": {
      "text/plain": [
       "Location(솔브릿지국제경영대학, 우암로, 삼성동, 동구, 대전, 34611, 대한민국, (36.338327750000005, 127.43243066372395, 0.0))"
      ]
     },
     "execution_count": 24,
     "metadata": {},
     "output_type": "execute_result"
    }
   ],
   "source": [
    "# Method .reverse() with a set of provided coordinates\n",
    "coor = \"36.338458700000004, 127.43247014647005\"\n",
    "locator = Nominatim(user_agent='test3')\n",
    "loc1 = locator.reverse(coor)\n",
    "loc1"
   ]
  },
  {
   "cell_type": "code",
   "execution_count": 25,
   "metadata": {},
   "outputs": [
    {
     "data": {
      "text/plain": [
       "{'place_id': 228454021,\n",
       " 'licence': 'Data © OpenStreetMap contributors, ODbL 1.0. http://osm.org/copyright',\n",
       " 'osm_type': 'way',\n",
       " 'osm_id': 108332744,\n",
       " 'lat': '36.338327750000005',\n",
       " 'lon': '127.43243066372395',\n",
       " 'class': 'amenity',\n",
       " 'type': 'university',\n",
       " 'place_rank': 30,\n",
       " 'importance': 9.99999999995449e-06,\n",
       " 'addresstype': 'amenity',\n",
       " 'name': '솔브릿지국제경영대학',\n",
       " 'display_name': '솔브릿지국제경영대학, 우암로, 삼성동, 동구, 대전, 34611, 대한민국',\n",
       " 'address': {'amenity': '솔브릿지국제경영대학',\n",
       "  'road': '우암로',\n",
       "  'quarter': '삼성동',\n",
       "  'suburb': '삼성동',\n",
       "  'borough': '동구',\n",
       "  'city': '대전',\n",
       "  'ISO3166-2-lvl4': 'KR-30',\n",
       "  'postcode': '34611',\n",
       "  'country': '대한민국',\n",
       "  'country_code': 'kr'},\n",
       " 'boundingbox': ['36.3380853', '36.3388146', '127.4319994', '127.4327213']}"
      ]
     },
     "execution_count": 25,
     "metadata": {},
     "output_type": "execute_result"
    }
   ],
   "source": [
    "# Detailed information of the reversed location finding\n",
    "loc1.raw"
   ]
  },
  {
   "cell_type": "code",
   "execution_count": 28,
   "metadata": {},
   "outputs": [
    {
     "name": "stdout",
     "output_type": "stream",
     "text": [
      "솔브릿지국제경영대학, 우암로, 삼성동, 동구, 대전, 34611, 대한민국\n"
     ]
    },
    {
     "data": {
      "text/plain": [
       "'솔브릿지국제경영대학, 우암로, 삼성동, 동구, 대전, 34611, 대한민국'"
      ]
     },
     "execution_count": 28,
     "metadata": {},
     "output_type": "execute_result"
    }
   ],
   "source": [
    "# Address printing in either of the methods shown below:\n",
    "print(loc1.address)\n",
    "loc1.raw[\"display_name\"]"
   ]
  },
  {
   "cell_type": "markdown",
   "metadata": {},
   "source": [
    "### Reverse Geocoding with Pandas"
   ]
  },
  {
   "cell_type": "code",
   "execution_count": 38,
   "metadata": {},
   "outputs": [
    {
     "data": {
      "text/html": [
       "<div>\n",
       "<style scoped>\n",
       "    .dataframe tbody tr th:only-of-type {\n",
       "        vertical-align: middle;\n",
       "    }\n",
       "\n",
       "    .dataframe tbody tr th {\n",
       "        vertical-align: top;\n",
       "    }\n",
       "\n",
       "    .dataframe thead th {\n",
       "        text-align: right;\n",
       "    }\n",
       "</style>\n",
       "<table border=\"1\" class=\"dataframe\">\n",
       "  <thead>\n",
       "    <tr style=\"text-align: right;\">\n",
       "      <th></th>\n",
       "      <th>X</th>\n",
       "      <th>Y</th>\n",
       "      <th>POLE_NUM</th>\n",
       "      <th>TYPE</th>\n",
       "      <th>HEIGHT</th>\n",
       "      <th>POLE_DATE</th>\n",
       "      <th>OWNER</th>\n",
       "    </tr>\n",
       "  </thead>\n",
       "  <tbody>\n",
       "    <tr>\n",
       "      <th>0</th>\n",
       "      <td>-75.170097</td>\n",
       "      <td>39.942766</td>\n",
       "      <td>214423</td>\n",
       "      <td>WP</td>\n",
       "      <td>NaN</td>\n",
       "      <td>1997-06-09T00:00:00.000Z</td>\n",
       "      <td>PECO</td>\n",
       "    </tr>\n",
       "    <tr>\n",
       "      <th>1</th>\n",
       "      <td>-75.166112</td>\n",
       "      <td>39.941477</td>\n",
       "      <td>215645</td>\n",
       "      <td>AAPT</td>\n",
       "      <td>25.0</td>\n",
       "      <td>1997-06-10T00:00:00.000Z</td>\n",
       "      <td>Streets</td>\n",
       "    </tr>\n",
       "    <tr>\n",
       "      <th>2</th>\n",
       "      <td>-75.163483</td>\n",
       "      <td>39.943068</td>\n",
       "      <td>215926</td>\n",
       "      <td>WP</td>\n",
       "      <td>NaN</td>\n",
       "      <td>1997-06-04T00:00:00.000Z</td>\n",
       "      <td>PECO</td>\n",
       "    </tr>\n",
       "  </tbody>\n",
       "</table>\n",
       "</div>"
      ],
      "text/plain": [
       "           X          Y  POLE_NUM  TYPE  HEIGHT                 POLE_DATE  \\\n",
       "0 -75.170097  39.942766    214423    WP     NaN  1997-06-09T00:00:00.000Z   \n",
       "1 -75.166112  39.941477    215645  AAPT    25.0  1997-06-10T00:00:00.000Z   \n",
       "2 -75.163483  39.943068    215926    WP     NaN  1997-06-04T00:00:00.000Z   \n",
       "\n",
       "     OWNER  \n",
       "0     PECO  \n",
       "1  Streets  \n",
       "2     PECO  "
      ]
     },
     "execution_count": 38,
     "metadata": {},
     "output_type": "execute_result"
    }
   ],
   "source": [
    "# Load sample dataset with the selected columns\n",
    "cols = [\"X\", \"Y\", \"POLE_NUM\",\"TYPE\",\"HEIGHT\",\"POLE_DATE\",\"OWNER\"]\n",
    "df = pd.read_csv('localdata/pole_sample.csv', usecols=cols)\n",
    "df.head(3)"
   ]
  },
  {
   "cell_type": "code",
   "execution_count": 30,
   "metadata": {},
   "outputs": [
    {
     "data": {
      "text/plain": [
       "(150, 7)"
      ]
     },
     "execution_count": 30,
     "metadata": {},
     "output_type": "execute_result"
    }
   ],
   "source": [
    "# Number of rows and columns check\n",
    "df.shape"
   ]
  },
  {
   "cell_type": "code",
   "execution_count": 35,
   "metadata": {},
   "outputs": [
    {
     "data": {
      "application/vnd.plotly.v1+json": {
       "config": {
        "plotlyServerURL": "https://plot.ly"
       },
       "data": [
        {
         "hovertemplate": "Y=%{lat}<br>X=%{lon}<extra></extra>",
         "lat": [
          39.9427660880249,
          39.9414773141344,
          39.9430681055253,
          39.9445279530865,
          39.9414861490123,
          39.9458123834736,
          39.943734222490704,
          39.94571584586971,
          39.9445160204005,
          39.9452353940648,
          39.9421003060787,
          39.942009547845295,
          39.9425569100695,
          39.9441380595844,
          39.94655295116471,
          39.94471412257421,
          39.940722703319295,
          39.9418700579681,
          39.94143256814751,
          39.9412106113779,
          39.9455913439411,
          39.9416313994758,
          39.9453216271484,
          39.9415617915161,
          39.9441235936333,
          39.946176947876,
          39.942189112503,
          39.9419956069136,
          39.9416970345368,
          39.9403614874189,
          39.9401786675993,
          39.9434598756854,
          39.9420902248872,
          39.9431896154041,
          39.945430863797895,
          39.9435696723346,
          39.9421963890193,
          39.943662268512895,
          39.945913371615895,
          39.9447291290113,
          39.9438161372329,
          39.9417940701319,
          39.943290066897895,
          39.945532637358205,
          39.9447444628453,
          39.9417476047159,
          39.9409625683542,
          39.9444908929508,
          39.9445699506451,
          39.9449078909761,
          39.946184951901294,
          39.9434308808985,
          39.945712206653,
          39.9444477229531,
          39.9448439241796,
          39.9424624493756,
          39.9454532004975,
          39.9409449392005,
          39.9430276704463,
          39.9426871252342,
          39.9445946467228,
          39.9448442707899,
          39.9459730420916,
          39.9417954502535,
          39.9419381840676,
          39.9446221329751,
          39.94400922034461,
          39.944719621934,
          39.9430064824281,
          39.9434539696837,
          39.942744448668606,
          39.9405701384996,
          39.9450187151075,
          39.9447011314276,
          39.9409698135544,
          39.9435733323148,
          39.943578661452,
          39.9425954727087,
          39.941074901031,
          39.941227462485,
          39.9457636200776,
          39.941390805097605,
          39.9412106113779,
          39.9443409101052,
          39.94132435114361,
          39.9444568898077,
          39.9460593082689,
          39.943956514005606,
          39.9433784003814,
          39.9444007609688,
          39.9445508589632,
          39.9434195085844,
          39.9436549605938,
          39.9465006258679,
          39.944203726968205,
          39.9419237085647,
          39.9434556417064,
          39.945290400125,
          39.9435715281132,
          39.9443497703493,
          39.9418244906318,
          39.940791818266895,
          39.9452972237368,
          39.94289530432339,
          39.9432250585981,
          39.9461534280688,
          39.9422036598655,
          39.942816751974895,
          39.9410995860245,
          39.9409976716718,
          39.9435467222009,
          39.941635834688,
          39.9428415471354,
          39.9437762760183,
          39.943202293922205,
          39.9414773141344,
          39.9427679056027,
          39.94333297429471,
          39.944204491851295,
          39.9437465265944,
          39.9438374680866,
          39.9451722775365,
          39.942506945221794,
          39.9446070190048,
          39.9451249121917,
          39.942395006130205,
          39.9448046762956,
          39.9425423742086,
          39.9451310774725,
          39.942502098622896,
          39.9448444548848,
          39.9401415841301,
          39.9444844685105,
          39.9440896128934,
          39.9464876419233,
          39.9439442566142,
          39.944594781667206,
          39.9420869288918,
          39.9436836809808,
          39.9438175774937,
          39.942022801526,
          39.9412882269538,
          39.9464576660407,
          39.9461515358412,
          39.9431594600703,
          39.944848862498,
          39.943748694572704,
          39.9463024050705,
          39.943661667793606,
          39.9461970120384
         ],
         "legendgroup": "",
         "lon": [
          -75.17009743393821,
          -75.166112027818,
          -75.1634826347411,
          -75.16772651013079,
          -75.17186304554191,
          -75.16990506491759,
          -75.1729444762547,
          -75.17319847814409,
          -75.171839078194,
          -75.1702213350259,
          -75.16763679647809,
          -75.164444213202,
          -75.1658872318113,
          -75.1697176819241,
          -75.17342006944808,
          -75.1631265136534,
          -75.1660158465086,
          -75.1687239310986,
          -75.1714761846592,
          -75.1659134505965,
          -75.1733352170396,
          -75.1660811942322,
          -75.1701957610606,
          -75.1658314158863,
          -75.1686945255596,
          -75.1728366733244,
          -75.173465109093,
          -75.1676826974808,
          -75.16520814264109,
          -75.16610004474171,
          -75.16434362402241,
          -75.1704582159004,
          -75.16598882295379,
          -75.1731247936959,
          -75.1717829606576,
          -75.1651744705443,
          -75.1692690160745,
          -75.167292004049,
          -75.17057559537159,
          -75.1654692349308,
          -75.17432751996729,
          -75.16521871683041,
          -75.172469555266,
          -75.1683484207589,
          -75.16542226756721,
          -75.16606607219279,
          -75.1691382947034,
          -75.1697197517855,
          -75.16805763026629,
          -75.17349136452249,
          -75.1739246337558,
          -75.1656987920779,
          -75.17334401437179,
          -75.16698384802551,
          -75.16633814103079,
          -75.1724048958403,
          -75.1690935922351,
          -75.1675915045988,
          -75.1700420121554,
          -75.165187430855,
          -75.1726887192804,
          -75.1670642191653,
          -75.17236717743879,
          -75.1661079591894,
          -75.17351922103,
          -75.1708119285717,
          -75.1653039447095,
          -75.16924544189791,
          -75.1677789731532,
          -75.1642446920835,
          -75.1738445501845,
          -75.1660475139983,
          -75.1684714180401,
          -75.1742903501634,
          -75.168988249338,
          -75.1656639391241,
          -75.16892305795609,
          -75.169509856798,
          -75.1686087455176,
          -75.16676819629599,
          -75.1707266782441,
          -75.1702620311824,
          -75.1659134505965,
          -75.1713432961324,
          -75.164592019347,
          -75.1734718925075,
          -75.17309357605109,
          -75.1640964069228,
          -75.17100452670071,
          -75.1711059652417,
          -75.16465537452521,
          -75.17497140117291,
          -75.17491063549599,
          -75.1731366058802,
          -75.1702631764934,
          -75.170215934446,
          -75.1632587093028,
          -75.1668367472907,
          -75.1686289732543,
          -75.1706723492525,
          -75.16931524998641,
          -75.1663352128476,
          -75.170709592618,
          -75.170069336886,
          -75.16344008949359,
          -75.1732184576001,
          -75.17488100140841,
          -75.1662974724285,
          -75.1678505385142,
          -75.1659527660201,
          -75.1649819135331,
          -75.1724210857418,
          -75.1737944865256,
          -75.1705086447194,
          -75.1693904798238,
          -75.166112027818,
          -75.1659139955285,
          -75.1657185711356,
          -75.1665908034466,
          -75.170012044364,
          -75.1735997406786,
          -75.16970458289909,
          -75.1738945843899,
          -75.16838715401191,
          -75.1686217008828,
          -75.167929760098,
          -75.1699228097545,
          -75.1656210842932,
          -75.16847428551429,
          -75.1675403586672,
          -75.1746893605221,
          -75.1641300766696,
          -75.1725217886565,
          -75.16517154773909,
          -75.1730247032437,
          -75.17357606820579,
          -75.1734077919442,
          -75.1704082558376,
          -75.16533266852909,
          -75.1707042066434,
          -75.16516185704529,
          -75.1661548956461,
          -75.1731516153292,
          -75.17371130092859,
          -75.165487010455,
          -75.170467929968,
          -75.1737663401247,
          -75.1715777329037,
          -75.1659299189492,
          -75.1739973221575
         ],
         "marker": {
          "color": "#636efa"
         },
         "mode": "markers",
         "name": "",
         "showlegend": false,
         "subplot": "mapbox",
         "type": "scattermapbox"
        }
       ],
       "layout": {
        "legend": {
         "tracegroupgap": 0
        },
        "mapbox": {
         "accesstoken": "pk.eyJ1Ijoic2hha2Fzb20iLCJhIjoiY2plMWg1NGFpMXZ5NjJxbjhlM2ttN3AwbiJ9.RtGYHmreKiyBfHuElgYq_w",
         "center": {
          "lat": 39.94350971163248,
          "lon": -75.16915013406171
         },
         "domain": {
          "x": [
           0,
           1
          ],
          "y": [
           0,
           1
          ]
         },
         "zoom": 15
        },
        "margin": {
         "t": 60
        },
        "template": {
         "data": {
          "bar": [
           {
            "error_x": {
             "color": "#2a3f5f"
            },
            "error_y": {
             "color": "#2a3f5f"
            },
            "marker": {
             "line": {
              "color": "#E5ECF6",
              "width": 0.5
             },
             "pattern": {
              "fillmode": "overlay",
              "size": 10,
              "solidity": 0.2
             }
            },
            "type": "bar"
           }
          ],
          "barpolar": [
           {
            "marker": {
             "line": {
              "color": "#E5ECF6",
              "width": 0.5
             },
             "pattern": {
              "fillmode": "overlay",
              "size": 10,
              "solidity": 0.2
             }
            },
            "type": "barpolar"
           }
          ],
          "carpet": [
           {
            "aaxis": {
             "endlinecolor": "#2a3f5f",
             "gridcolor": "white",
             "linecolor": "white",
             "minorgridcolor": "white",
             "startlinecolor": "#2a3f5f"
            },
            "baxis": {
             "endlinecolor": "#2a3f5f",
             "gridcolor": "white",
             "linecolor": "white",
             "minorgridcolor": "white",
             "startlinecolor": "#2a3f5f"
            },
            "type": "carpet"
           }
          ],
          "choropleth": [
           {
            "colorbar": {
             "outlinewidth": 0,
             "ticks": ""
            },
            "type": "choropleth"
           }
          ],
          "contour": [
           {
            "colorbar": {
             "outlinewidth": 0,
             "ticks": ""
            },
            "colorscale": [
             [
              0,
              "#0d0887"
             ],
             [
              0.1111111111111111,
              "#46039f"
             ],
             [
              0.2222222222222222,
              "#7201a8"
             ],
             [
              0.3333333333333333,
              "#9c179e"
             ],
             [
              0.4444444444444444,
              "#bd3786"
             ],
             [
              0.5555555555555556,
              "#d8576b"
             ],
             [
              0.6666666666666666,
              "#ed7953"
             ],
             [
              0.7777777777777778,
              "#fb9f3a"
             ],
             [
              0.8888888888888888,
              "#fdca26"
             ],
             [
              1,
              "#f0f921"
             ]
            ],
            "type": "contour"
           }
          ],
          "contourcarpet": [
           {
            "colorbar": {
             "outlinewidth": 0,
             "ticks": ""
            },
            "type": "contourcarpet"
           }
          ],
          "heatmap": [
           {
            "colorbar": {
             "outlinewidth": 0,
             "ticks": ""
            },
            "colorscale": [
             [
              0,
              "#0d0887"
             ],
             [
              0.1111111111111111,
              "#46039f"
             ],
             [
              0.2222222222222222,
              "#7201a8"
             ],
             [
              0.3333333333333333,
              "#9c179e"
             ],
             [
              0.4444444444444444,
              "#bd3786"
             ],
             [
              0.5555555555555556,
              "#d8576b"
             ],
             [
              0.6666666666666666,
              "#ed7953"
             ],
             [
              0.7777777777777778,
              "#fb9f3a"
             ],
             [
              0.8888888888888888,
              "#fdca26"
             ],
             [
              1,
              "#f0f921"
             ]
            ],
            "type": "heatmap"
           }
          ],
          "heatmapgl": [
           {
            "colorbar": {
             "outlinewidth": 0,
             "ticks": ""
            },
            "colorscale": [
             [
              0,
              "#0d0887"
             ],
             [
              0.1111111111111111,
              "#46039f"
             ],
             [
              0.2222222222222222,
              "#7201a8"
             ],
             [
              0.3333333333333333,
              "#9c179e"
             ],
             [
              0.4444444444444444,
              "#bd3786"
             ],
             [
              0.5555555555555556,
              "#d8576b"
             ],
             [
              0.6666666666666666,
              "#ed7953"
             ],
             [
              0.7777777777777778,
              "#fb9f3a"
             ],
             [
              0.8888888888888888,
              "#fdca26"
             ],
             [
              1,
              "#f0f921"
             ]
            ],
            "type": "heatmapgl"
           }
          ],
          "histogram": [
           {
            "marker": {
             "pattern": {
              "fillmode": "overlay",
              "size": 10,
              "solidity": 0.2
             }
            },
            "type": "histogram"
           }
          ],
          "histogram2d": [
           {
            "colorbar": {
             "outlinewidth": 0,
             "ticks": ""
            },
            "colorscale": [
             [
              0,
              "#0d0887"
             ],
             [
              0.1111111111111111,
              "#46039f"
             ],
             [
              0.2222222222222222,
              "#7201a8"
             ],
             [
              0.3333333333333333,
              "#9c179e"
             ],
             [
              0.4444444444444444,
              "#bd3786"
             ],
             [
              0.5555555555555556,
              "#d8576b"
             ],
             [
              0.6666666666666666,
              "#ed7953"
             ],
             [
              0.7777777777777778,
              "#fb9f3a"
             ],
             [
              0.8888888888888888,
              "#fdca26"
             ],
             [
              1,
              "#f0f921"
             ]
            ],
            "type": "histogram2d"
           }
          ],
          "histogram2dcontour": [
           {
            "colorbar": {
             "outlinewidth": 0,
             "ticks": ""
            },
            "colorscale": [
             [
              0,
              "#0d0887"
             ],
             [
              0.1111111111111111,
              "#46039f"
             ],
             [
              0.2222222222222222,
              "#7201a8"
             ],
             [
              0.3333333333333333,
              "#9c179e"
             ],
             [
              0.4444444444444444,
              "#bd3786"
             ],
             [
              0.5555555555555556,
              "#d8576b"
             ],
             [
              0.6666666666666666,
              "#ed7953"
             ],
             [
              0.7777777777777778,
              "#fb9f3a"
             ],
             [
              0.8888888888888888,
              "#fdca26"
             ],
             [
              1,
              "#f0f921"
             ]
            ],
            "type": "histogram2dcontour"
           }
          ],
          "mesh3d": [
           {
            "colorbar": {
             "outlinewidth": 0,
             "ticks": ""
            },
            "type": "mesh3d"
           }
          ],
          "parcoords": [
           {
            "line": {
             "colorbar": {
              "outlinewidth": 0,
              "ticks": ""
             }
            },
            "type": "parcoords"
           }
          ],
          "pie": [
           {
            "automargin": true,
            "type": "pie"
           }
          ],
          "scatter": [
           {
            "fillpattern": {
             "fillmode": "overlay",
             "size": 10,
             "solidity": 0.2
            },
            "type": "scatter"
           }
          ],
          "scatter3d": [
           {
            "line": {
             "colorbar": {
              "outlinewidth": 0,
              "ticks": ""
             }
            },
            "marker": {
             "colorbar": {
              "outlinewidth": 0,
              "ticks": ""
             }
            },
            "type": "scatter3d"
           }
          ],
          "scattercarpet": [
           {
            "marker": {
             "colorbar": {
              "outlinewidth": 0,
              "ticks": ""
             }
            },
            "type": "scattercarpet"
           }
          ],
          "scattergeo": [
           {
            "marker": {
             "colorbar": {
              "outlinewidth": 0,
              "ticks": ""
             }
            },
            "type": "scattergeo"
           }
          ],
          "scattergl": [
           {
            "marker": {
             "colorbar": {
              "outlinewidth": 0,
              "ticks": ""
             }
            },
            "type": "scattergl"
           }
          ],
          "scattermapbox": [
           {
            "marker": {
             "colorbar": {
              "outlinewidth": 0,
              "ticks": ""
             }
            },
            "type": "scattermapbox"
           }
          ],
          "scatterpolar": [
           {
            "marker": {
             "colorbar": {
              "outlinewidth": 0,
              "ticks": ""
             }
            },
            "type": "scatterpolar"
           }
          ],
          "scatterpolargl": [
           {
            "marker": {
             "colorbar": {
              "outlinewidth": 0,
              "ticks": ""
             }
            },
            "type": "scatterpolargl"
           }
          ],
          "scatterternary": [
           {
            "marker": {
             "colorbar": {
              "outlinewidth": 0,
              "ticks": ""
             }
            },
            "type": "scatterternary"
           }
          ],
          "surface": [
           {
            "colorbar": {
             "outlinewidth": 0,
             "ticks": ""
            },
            "colorscale": [
             [
              0,
              "#0d0887"
             ],
             [
              0.1111111111111111,
              "#46039f"
             ],
             [
              0.2222222222222222,
              "#7201a8"
             ],
             [
              0.3333333333333333,
              "#9c179e"
             ],
             [
              0.4444444444444444,
              "#bd3786"
             ],
             [
              0.5555555555555556,
              "#d8576b"
             ],
             [
              0.6666666666666666,
              "#ed7953"
             ],
             [
              0.7777777777777778,
              "#fb9f3a"
             ],
             [
              0.8888888888888888,
              "#fdca26"
             ],
             [
              1,
              "#f0f921"
             ]
            ],
            "type": "surface"
           }
          ],
          "table": [
           {
            "cells": {
             "fill": {
              "color": "#EBF0F8"
             },
             "line": {
              "color": "white"
             }
            },
            "header": {
             "fill": {
              "color": "#C8D4E3"
             },
             "line": {
              "color": "white"
             }
            },
            "type": "table"
           }
          ]
         },
         "layout": {
          "annotationdefaults": {
           "arrowcolor": "#2a3f5f",
           "arrowhead": 0,
           "arrowwidth": 1
          },
          "autotypenumbers": "strict",
          "coloraxis": {
           "colorbar": {
            "outlinewidth": 0,
            "ticks": ""
           }
          },
          "colorscale": {
           "diverging": [
            [
             0,
             "#8e0152"
            ],
            [
             0.1,
             "#c51b7d"
            ],
            [
             0.2,
             "#de77ae"
            ],
            [
             0.3,
             "#f1b6da"
            ],
            [
             0.4,
             "#fde0ef"
            ],
            [
             0.5,
             "#f7f7f7"
            ],
            [
             0.6,
             "#e6f5d0"
            ],
            [
             0.7,
             "#b8e186"
            ],
            [
             0.8,
             "#7fbc41"
            ],
            [
             0.9,
             "#4d9221"
            ],
            [
             1,
             "#276419"
            ]
           ],
           "sequential": [
            [
             0,
             "#0d0887"
            ],
            [
             0.1111111111111111,
             "#46039f"
            ],
            [
             0.2222222222222222,
             "#7201a8"
            ],
            [
             0.3333333333333333,
             "#9c179e"
            ],
            [
             0.4444444444444444,
             "#bd3786"
            ],
            [
             0.5555555555555556,
             "#d8576b"
            ],
            [
             0.6666666666666666,
             "#ed7953"
            ],
            [
             0.7777777777777778,
             "#fb9f3a"
            ],
            [
             0.8888888888888888,
             "#fdca26"
            ],
            [
             1,
             "#f0f921"
            ]
           ],
           "sequentialminus": [
            [
             0,
             "#0d0887"
            ],
            [
             0.1111111111111111,
             "#46039f"
            ],
            [
             0.2222222222222222,
             "#7201a8"
            ],
            [
             0.3333333333333333,
             "#9c179e"
            ],
            [
             0.4444444444444444,
             "#bd3786"
            ],
            [
             0.5555555555555556,
             "#d8576b"
            ],
            [
             0.6666666666666666,
             "#ed7953"
            ],
            [
             0.7777777777777778,
             "#fb9f3a"
            ],
            [
             0.8888888888888888,
             "#fdca26"
            ],
            [
             1,
             "#f0f921"
            ]
           ]
          },
          "colorway": [
           "#636efa",
           "#EF553B",
           "#00cc96",
           "#ab63fa",
           "#FFA15A",
           "#19d3f3",
           "#FF6692",
           "#B6E880",
           "#FF97FF",
           "#FECB52"
          ],
          "font": {
           "color": "#2a3f5f"
          },
          "geo": {
           "bgcolor": "white",
           "lakecolor": "white",
           "landcolor": "#E5ECF6",
           "showlakes": true,
           "showland": true,
           "subunitcolor": "white"
          },
          "hoverlabel": {
           "align": "left"
          },
          "hovermode": "closest",
          "mapbox": {
           "style": "light"
          },
          "paper_bgcolor": "white",
          "plot_bgcolor": "#E5ECF6",
          "polar": {
           "angularaxis": {
            "gridcolor": "white",
            "linecolor": "white",
            "ticks": ""
           },
           "bgcolor": "#E5ECF6",
           "radialaxis": {
            "gridcolor": "white",
            "linecolor": "white",
            "ticks": ""
           }
          },
          "scene": {
           "xaxis": {
            "backgroundcolor": "#E5ECF6",
            "gridcolor": "white",
            "gridwidth": 2,
            "linecolor": "white",
            "showbackground": true,
            "ticks": "",
            "zerolinecolor": "white"
           },
           "yaxis": {
            "backgroundcolor": "#E5ECF6",
            "gridcolor": "white",
            "gridwidth": 2,
            "linecolor": "white",
            "showbackground": true,
            "ticks": "",
            "zerolinecolor": "white"
           },
           "zaxis": {
            "backgroundcolor": "#E5ECF6",
            "gridcolor": "white",
            "gridwidth": 2,
            "linecolor": "white",
            "showbackground": true,
            "ticks": "",
            "zerolinecolor": "white"
           }
          },
          "shapedefaults": {
           "line": {
            "color": "#2a3f5f"
           }
          },
          "ternary": {
           "aaxis": {
            "gridcolor": "white",
            "linecolor": "white",
            "ticks": ""
           },
           "baxis": {
            "gridcolor": "white",
            "linecolor": "white",
            "ticks": ""
           },
           "bgcolor": "#E5ECF6",
           "caxis": {
            "gridcolor": "white",
            "linecolor": "white",
            "ticks": ""
           }
          },
          "title": {
           "x": 0.05
          },
          "xaxis": {
           "automargin": true,
           "gridcolor": "white",
           "linecolor": "white",
           "ticks": "",
           "title": {
            "standoff": 15
           },
           "zerolinecolor": "white",
           "zerolinewidth": 2
          },
          "yaxis": {
           "automargin": true,
           "gridcolor": "white",
           "linecolor": "white",
           "ticks": "",
           "title": {
            "standoff": 15
           },
           "zerolinecolor": "white",
           "zerolinewidth": 2
          }
         }
        }
       }
      }
     },
     "metadata": {},
     "output_type": "display_data"
    }
   ],
   "source": [
    "# Plotly scatter mapbox plot\n",
    "px.scatter_mapbox(df, lat=\"Y\", lon=\"X\",  zoom=15)"
   ]
  },
  {
   "cell_type": "code",
   "execution_count": 39,
   "metadata": {},
   "outputs": [
    {
     "data": {
      "text/html": [
       "<div>\n",
       "<style scoped>\n",
       "    .dataframe tbody tr th:only-of-type {\n",
       "        vertical-align: middle;\n",
       "    }\n",
       "\n",
       "    .dataframe tbody tr th {\n",
       "        vertical-align: top;\n",
       "    }\n",
       "\n",
       "    .dataframe thead th {\n",
       "        text-align: right;\n",
       "    }\n",
       "</style>\n",
       "<table border=\"1\" class=\"dataframe\">\n",
       "  <thead>\n",
       "    <tr style=\"text-align: right;\">\n",
       "      <th></th>\n",
       "      <th>X</th>\n",
       "      <th>Y</th>\n",
       "      <th>POLE_NUM</th>\n",
       "      <th>TYPE</th>\n",
       "      <th>HEIGHT</th>\n",
       "      <th>POLE_DATE</th>\n",
       "      <th>OWNER</th>\n",
       "      <th>GEOM</th>\n",
       "    </tr>\n",
       "  </thead>\n",
       "  <tbody>\n",
       "    <tr>\n",
       "      <th>0</th>\n",
       "      <td>-75.170097</td>\n",
       "      <td>39.942766</td>\n",
       "      <td>214423</td>\n",
       "      <td>WP</td>\n",
       "      <td>NaN</td>\n",
       "      <td>1997-06-09T00:00:00.000Z</td>\n",
       "      <td>PECO</td>\n",
       "      <td>39.9427660880249, -75.17009743393821</td>\n",
       "    </tr>\n",
       "    <tr>\n",
       "      <th>1</th>\n",
       "      <td>-75.166112</td>\n",
       "      <td>39.941477</td>\n",
       "      <td>215645</td>\n",
       "      <td>AAPT</td>\n",
       "      <td>25.0</td>\n",
       "      <td>1997-06-10T00:00:00.000Z</td>\n",
       "      <td>Streets</td>\n",
       "      <td>39.9414773141344, -75.166112027818</td>\n",
       "    </tr>\n",
       "    <tr>\n",
       "      <th>2</th>\n",
       "      <td>-75.163483</td>\n",
       "      <td>39.943068</td>\n",
       "      <td>215926</td>\n",
       "      <td>WP</td>\n",
       "      <td>NaN</td>\n",
       "      <td>1997-06-04T00:00:00.000Z</td>\n",
       "      <td>PECO</td>\n",
       "      <td>39.9430681055253, -75.1634826347411</td>\n",
       "    </tr>\n",
       "  </tbody>\n",
       "</table>\n",
       "</div>"
      ],
      "text/plain": [
       "           X          Y  POLE_NUM  TYPE  HEIGHT                 POLE_DATE  \\\n",
       "0 -75.170097  39.942766    214423    WP     NaN  1997-06-09T00:00:00.000Z   \n",
       "1 -75.166112  39.941477    215645  AAPT    25.0  1997-06-10T00:00:00.000Z   \n",
       "2 -75.163483  39.943068    215926    WP     NaN  1997-06-04T00:00:00.000Z   \n",
       "\n",
       "     OWNER                                  GEOM  \n",
       "0     PECO  39.9427660880249, -75.17009743393821  \n",
       "1  Streets    39.9414773141344, -75.166112027818  \n",
       "2     PECO   39.9430681055253, -75.1634826347411  "
      ]
     },
     "execution_count": 39,
     "metadata": {},
     "output_type": "execute_result"
    }
   ],
   "source": [
    "# Create a new column to show the combined coordinates\n",
    "df[\"GEOM\"] =  df[\"Y\"].map(str) + ', ' + df['X'].map(str)\n",
    "df.head(3)"
   ]
  },
  {
   "cell_type": "code",
   "execution_count": 43,
   "metadata": {},
   "outputs": [
    {
     "name": "stderr",
     "output_type": "stream",
     "text": [
      "100%|██████████| 150/150 [01:16<00:00,  1.95it/s]\n"
     ]
    },
    {
     "data": {
      "text/html": [
       "<div>\n",
       "<style scoped>\n",
       "    .dataframe tbody tr th:only-of-type {\n",
       "        vertical-align: middle;\n",
       "    }\n",
       "\n",
       "    .dataframe tbody tr th {\n",
       "        vertical-align: top;\n",
       "    }\n",
       "\n",
       "    .dataframe thead th {\n",
       "        text-align: right;\n",
       "    }\n",
       "</style>\n",
       "<table border=\"1\" class=\"dataframe\">\n",
       "  <thead>\n",
       "    <tr style=\"text-align: right;\">\n",
       "      <th></th>\n",
       "      <th>X</th>\n",
       "      <th>Y</th>\n",
       "      <th>POLE_NUM</th>\n",
       "      <th>TYPE</th>\n",
       "      <th>HEIGHT</th>\n",
       "      <th>POLE_DATE</th>\n",
       "      <th>OWNER</th>\n",
       "      <th>GEOM</th>\n",
       "      <th>ADDRESS</th>\n",
       "    </tr>\n",
       "  </thead>\n",
       "  <tbody>\n",
       "    <tr>\n",
       "      <th>0</th>\n",
       "      <td>-75.170097</td>\n",
       "      <td>39.942766</td>\n",
       "      <td>214423</td>\n",
       "      <td>WP</td>\n",
       "      <td>NaN</td>\n",
       "      <td>1997-06-09T00:00:00.000Z</td>\n",
       "      <td>PECO</td>\n",
       "      <td>39.9427660880249, -75.17009743393821</td>\n",
       "      <td>(720, South Chadwick Street, South Philadelphi...</td>\n",
       "    </tr>\n",
       "    <tr>\n",
       "      <th>1</th>\n",
       "      <td>-75.166112</td>\n",
       "      <td>39.941477</td>\n",
       "      <td>215645</td>\n",
       "      <td>AAPT</td>\n",
       "      <td>25.0</td>\n",
       "      <td>1997-06-10T00:00:00.000Z</td>\n",
       "      <td>Streets</td>\n",
       "      <td>39.9414773141344, -75.166112027818</td>\n",
       "      <td>(Tindley Temple United Methodist Church, 750, ...</td>\n",
       "    </tr>\n",
       "    <tr>\n",
       "      <th>2</th>\n",
       "      <td>-75.163483</td>\n",
       "      <td>39.943068</td>\n",
       "      <td>215926</td>\n",
       "      <td>WP</td>\n",
       "      <td>NaN</td>\n",
       "      <td>1997-06-04T00:00:00.000Z</td>\n",
       "      <td>PECO</td>\n",
       "      <td>39.9430681055253, -75.1634826347411</td>\n",
       "      <td>(621, South 13th Street, Martin Luther King Pl...</td>\n",
       "    </tr>\n",
       "  </tbody>\n",
       "</table>\n",
       "</div>"
      ],
      "text/plain": [
       "           X          Y  POLE_NUM  TYPE  HEIGHT                 POLE_DATE  \\\n",
       "0 -75.170097  39.942766    214423    WP     NaN  1997-06-09T00:00:00.000Z   \n",
       "1 -75.166112  39.941477    215645  AAPT    25.0  1997-06-10T00:00:00.000Z   \n",
       "2 -75.163483  39.943068    215926    WP     NaN  1997-06-04T00:00:00.000Z   \n",
       "\n",
       "     OWNER                                  GEOM  \\\n",
       "0     PECO  39.9427660880249, -75.17009743393821   \n",
       "1  Streets    39.9414773141344, -75.166112027818   \n",
       "2     PECO   39.9430681055253, -75.1634826347411   \n",
       "\n",
       "                                             ADDRESS  \n",
       "0  (720, South Chadwick Street, South Philadelphi...  \n",
       "1  (Tindley Temple United Methodist Church, 750, ...  \n",
       "2  (621, South 13th Street, Martin Luther King Pl...  "
      ]
     },
     "execution_count": 43,
     "metadata": {},
     "output_type": "execute_result"
    }
   ],
   "source": [
    "# Apply reverse geocoding to the coordinates in the ['GEOM'] columns + Address output into the new ['ADDRESS'] column\n",
    "# Note: The process may require some time. tqdm displays the progression.\n",
    "locator = Nominatim(user_agent='test4')\n",
    "rgeocode = RateLimiter(locator.reverse, min_delay_seconds=0.001)\n",
    "\n",
    "tqdm.pandas()\n",
    "df['ADDRESS'] = df['GEOM'].progress_apply(rgeocode)\n",
    "df.head(3)"
   ]
  },
  {
   "cell_type": "code",
   "execution_count": 42,
   "metadata": {},
   "outputs": [
    {
     "data": {
      "text/plain": [
       "Location(720, South Chadwick Street, South Philadelphia, Philadelphia, Pennsylvania, 19146, United States, (39.94280445, -75.1702057628465, 0.0))"
      ]
     },
     "execution_count": 42,
     "metadata": {},
     "output_type": "execute_result"
    }
   ],
   "source": [
    "# Full address print\n",
    "df['ADDRESS'][0]"
   ]
  },
  {
   "cell_type": "markdown",
   "metadata": {},
   "source": [
    "___"
   ]
  }
 ],
 "metadata": {
  "hide_input": false,
  "kernelspec": {
   "display_name": "Python 3",
   "language": "python",
   "name": "python3"
  },
  "language_info": {
   "codemirror_mode": {
    "name": "ipython",
    "version": 3
   },
   "file_extension": ".py",
   "mimetype": "text/x-python",
   "name": "python",
   "nbconvert_exporter": "python",
   "pygments_lexer": "ipython3",
   "version": "3.12.0"
  }
 },
 "nbformat": 4,
 "nbformat_minor": 4
}
